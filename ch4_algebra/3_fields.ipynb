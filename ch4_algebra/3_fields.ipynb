{
 "cells": [
  {
   "cell_type": "markdown",
   "id": "5de4c5c8-791e-44fd-8b73-917611ed494d",
   "metadata": {},
   "source": [
    "## Exercise 47. \n",
    "\n",
    "Consider the ring of modular 5 arithmetics ($Z_5$,+,·) from example 16. Show that ($Z_5$,+,·) is a field. What is the characteristic of $Z_5$? Prove that the equation a·x = b has only a single solution x ∈ $Z_5$ for any given a,b ∈ $Z^*_5$.\n",
    "\n",
    "## Exercise 48. \n",
    "\n",
    "Consider the ring of modular 6 arithmetics ($Z_6$,+,·) from example 11. Show that ($Z_6$,+,·) is not a field.\n",
    "\n",
    "**response**:\n",
    "\n",
    "as 6 in not prime, not all a in 0..5 have a multiplicative inverse. More concretelly, the ones which gcd(a, 6) != 1. These are 2 and 3:\n",
    "\n",
    "$2 * a^{-1} = 1 \\mod 6$"
   ]
  },
  {
   "cell_type": "code",
   "execution_count": 4,
   "id": "1437337f-b2f4-412a-af08-82ebd6d5adc8",
   "metadata": {},
   "outputs": [
    {
     "name": "stdout",
     "output_type": "stream",
     "text": [
      "Z6(2) has no multiplicative inverse\n"
     ]
    }
   ],
   "source": [
    "Z6 = Integers(6)\n",
    "\n",
    "inverse_found = False\n",
    "for a in range(6):\n",
    "    if Z6(a) * Z6(2) == Z6(1):\n",
    "        inverse_found = True\n",
    "        print(f\"inverse of 2 found: {a}\")\n",
    "\n",
    "if not inverse_found:     \n",
    "    print(f\"Z6(2) has no multiplicative inverse\")"
   ]
  },
  {
   "cell_type": "markdown",
   "id": "d68ea39f-6626-49bd-8892-245fd5d0f0a6",
   "metadata": {},
   "source": [
    "## Exercise 49 (Prime field F3). \n",
    "\n",
    "Construct the addition and multiplication table of the prime field $F_3$.\n",
    "\n",
    "## Exercise 50 (Prime field F13). \n",
    "\n",
    "Construct the addition and multiplication table of the prime field $F_{13}$."
   ]
  },
  {
   "cell_type": "code",
   "execution_count": 5,
   "id": "a417f045-25ed-4bfe-afeb-c73207a1cf0a",
   "metadata": {},
   "outputs": [
    {
     "name": "stdout",
     "output_type": "stream",
     "text": [
      "---------- Exc 49 ----------\n",
      "Sum matrix of F_3:\n",
      "[0 1 2]\n",
      "[1 2 0]\n",
      "[2 0 1]\n",
      "Mul matrix of F_3:\n",
      "[0 0 0]\n",
      "[0 1 2]\n",
      "[0 2 1]\n",
      "---------- Exc 50 ----------\n",
      "Sum matrix of F_13:\n",
      "[ 0  1  2  3  4  5  6  7  8  9 10 11 12]\n",
      "[ 1  2  3  4  5  6  7  8  9 10 11 12  0]\n",
      "[ 2  3  4  5  6  7  8  9 10 11 12  0  1]\n",
      "[ 3  4  5  6  7  8  9 10 11 12  0  1  2]\n",
      "[ 4  5  6  7  8  9 10 11 12  0  1  2  3]\n",
      "[ 5  6  7  8  9 10 11 12  0  1  2  3  4]\n",
      "[ 6  7  8  9 10 11 12  0  1  2  3  4  5]\n",
      "[ 7  8  9 10 11 12  0  1  2  3  4  5  6]\n",
      "[ 8  9 10 11 12  0  1  2  3  4  5  6  7]\n",
      "[ 9 10 11 12  0  1  2  3  4  5  6  7  8]\n",
      "[10 11 12  0  1  2  3  4  5  6  7  8  9]\n",
      "[11 12  0  1  2  3  4  5  6  7  8  9 10]\n",
      "[12  0  1  2  3  4  5  6  7  8  9 10 11]\n",
      "Mul matrix of F_13:\n",
      "[ 0  0  0  0  0  0  0  0  0  0  0  0  0]\n",
      "[ 0  1  2  3  4  5  6  7  8  9 10 11 12]\n",
      "[ 0  2  4  6  8 10 12  1  3  5  7  9 11]\n",
      "[ 0  3  6  9 12  2  5  8 11  1  4  7 10]\n",
      "[ 0  4  8 12  3  7 11  2  6 10  1  5  9]\n",
      "[ 0  5 10  2  7 12  4  9  1  6 11  3  8]\n",
      "[ 0  6 12  5 11  4 10  3  9  2  8  1  7]\n",
      "[ 0  7  1  8  2  9  3 10  4 11  5 12  6]\n",
      "[ 0  8  3 11  6  1  9  4 12  7  2 10  5]\n",
      "[ 0  9  5  1 10  6  2 11  7  3 12  8  4]\n",
      "[ 0 10  7  4  1 11  8  5  2 12  9  6  3]\n",
      "[ 0 11  9  7  5  3  1 12 10  8  6  4  2]\n",
      "[ 0 12 11 10  9  8  7  6  5  4  3  2  1]\n"
     ]
    }
   ],
   "source": [
    "\n",
    "def sum_matrix(p):\n",
    "    print(f\"Sum matrix of F_{p}:\")\n",
    "    print(matrix(GF(p), p, p, lambda i, j: i+j))\n",
    "\n",
    "def mul_matrix(p):\n",
    "    print(f\"Mul matrix of F_{p}:\")\n",
    "    print(matrix(GF(p), p, p, lambda i, j: i*j))\n",
    "\n",
    "print('-' * 10 + ' Exc 49 ' + '-' * 10)\n",
    "sum_matrix(3)\n",
    "mul_matrix(3)\n",
    "\n",
    "print('-' * 10 + ' Exc 50 ' + '-' * 10)\n",
    "sum_matrix(13)\n",
    "mul_matrix(13)"
   ]
  },
  {
   "cell_type": "markdown",
   "id": "c649d28e-5b39-44f8-a540-589866599dbd",
   "metadata": {},
   "source": [
    "## Exercise 51. \n",
    "\n",
    "Consider the prime field $F_{13}$ from exercise 50. Find the set of all pairs (x, y) ∈ $F_{13}$ × $F_{13}$ that satisfy the following equation:\n",
    "x2 +y2 = 1+7·x2 ·y2"
   ]
  },
  {
   "cell_type": "code",
   "execution_count": 17,
   "id": "f557e41d-dba6-4cfd-bf23-eb79d71ba571",
   "metadata": {},
   "outputs": [
    {
     "name": "stdout",
     "output_type": "stream",
     "text": [
      "[12  0  3  8  2 11  9  9 11  2  8  3  0]\n",
      "[ 0  7  2 11  8  6  5  5  6  8 11  2  7]\n",
      "[ 3  2 12  7  0  4  6  6  4  0  7 12  2]\n",
      "[ 8 11  7  9  4  5 12 12  5  4  9  7 11]\n",
      "[ 2  8  0  4  7  9 10 10  9  7  4  0  8]\n",
      "[11  6  4  5  9  3  0  0  3  9  5  4  6]\n",
      "[ 9  5  6 12 10  0  8  8  0 10 12  6  5]\n",
      "[ 9  5  6 12 10  0  8  8  0 10 12  6  5]\n",
      "[11  6  4  5  9  3  0  0  3  9  5  4  6]\n",
      "[ 2  8  0  4  7  9 10 10  9  7  4  0  8]\n",
      "[ 8 11  7  9  4  5 12 12  5  4  9  7 11]\n",
      "[ 3  2 12  7  0  4  6  6  4  0  7 12  2]\n",
      "[ 0  7  2 11  8  6  5  5  6  8 11  2  7]\n",
      "solutions x,y: [(0, 1), (0, 12), (1, 0), (2, 4), (2, 9), (4, 2), (4, 11), (5, 6), (5, 7), (6, 5), (6, 8), (7, 5), (7, 8), (8, 6), (8, 7), (9, 2), (9, 11), (11, 4), (11, 9), (12, 0)]\n"
     ]
    }
   ],
   "source": [
    "f = lambda x, y: (x^2 + y^2) - (1 + 7 * x^2 * y^2)\n",
    "p = 13\n",
    "F_p = GF(p)\n",
    "mat = matrix(F_p, p, p, f)\n",
    "print(mat)\n",
    "sol = [(i, j) for i, x in enumerate(mat) for j, y in enumerate(x) if y == 0]\n",
    "for x, y in sol:\n",
    "    assert F_p(x^2 + y^2) == F_p(1 + 7 * x^2 * y^2) \n",
    "\n",
    "print(f\"solutions x,y: {sol}\")"
   ]
  },
  {
   "cell_type": "markdown",
   "id": "7aa099f7-9b35-448c-a4e3-3246d340bf51",
   "metadata": {},
   "source": [
    "## Exercise 52. \n",
    "\n",
    "Consider the prime field F13 from exercise 50. Compute the Legendre symbol x/13 andthe set of roots √x for all elements x ∈ F13."
   ]
  },
  {
   "cell_type": "code",
   "execution_count": 22,
   "id": "9685ef65-292f-4d4c-adc5-4ca459bc940f",
   "metadata": {},
   "outputs": [
    {
     "data": {
      "text/plain": [
       "[0, 1, 3, 4, 9, 10, 12]"
      ]
     },
     "execution_count": 22,
     "metadata": {},
     "output_type": "execute_result"
    }
   ],
   "source": [
    "F_13 = GF(13)\n",
    "\n",
    "roots_set = [a for a in F_13 if a^((13-1)/2) <= 1]\n",
    "roots_set"
   ]
  },
  {
   "cell_type": "markdown",
   "id": "511d9a5e-dca4-423a-b5f1-84b9af15e69f",
   "metadata": {},
   "source": [
    "## Exercise 53. \n",
    "\n",
    "Consider the extension field F32 from the previous example and find all pairs of elements (x, y) ∈ F32 , for which the following equation holds:\n",
    "y2 =x3+4 (4.54)\n",
    "\n"
   ]
  },
  {
   "cell_type": "code",
   "execution_count": 25,
   "id": "fba60a4e-9fb9-4287-b013-76ed1f3cc114",
   "metadata": {},
   "outputs": [
    {
     "data": {
      "text/plain": [
       "[(0, 1), (2, 0), (0, 2)]"
      ]
     },
     "execution_count": 25,
     "metadata": {},
     "output_type": "execute_result"
    }
   ],
   "source": [
    "F_3_sqr = GF(3^2)\n",
    "\n",
    "[(x, y) for (x, y) in F_3_sqr if y^2 == x^3 + 4]"
   ]
  },
  {
   "cell_type": "markdown",
   "id": "95bae80e-5073-43d0-8b66-8c2e87909646",
   "metadata": {},
   "source": [
    "## Exercise 54. \n",
    "\n",
    "Show that the polynomial Q = x2 + x + 2 from F3[x] is irreducible. Construct the multiplication table of F32 with respect to Q and compare it to the multiplication table of F32 from example 68."
   ]
  },
  {
   "cell_type": "code",
   "execution_count": 40,
   "id": "b9bc516d-bf28-47c6-84ef-e8bc2b497f61",
   "metadata": {},
   "outputs": [
    {
     "data": {
      "text/plain": [
       "[0 0 0 0 0 0 0 0 0]\n",
       "[0 1 2 0 1 2 0 1 2]\n",
       "[0 2 1 0 2 1 0 2 1]\n",
       "[0 0 0 0 0 0 0 0 0]\n",
       "[0 1 2 0 1 2 0 1 2]\n",
       "[0 2 1 0 2 1 0 2 1]\n",
       "[0 0 0 0 0 0 0 0 0]\n",
       "[0 1 2 0 1 2 0 1 2]\n",
       "[0 2 1 0 2 1 0 2 1]"
      ]
     },
     "execution_count": 40,
     "metadata": {},
     "output_type": "execute_result"
    }
   ],
   "source": [
    "F_3 = GF(3)\n",
    "R.<x> = PolynomialRing(F_3)\n",
    "Q = x^2 + x + 2\n",
    "\n",
    "# Q is irreductible\n",
    "for a in F_3:\n",
    "    assert Q(a) != 0\n",
    "\n",
    "#or F_32.<u> = F_3.extension(Q)\n",
    "F_32.<u> = GF(3^2, modulus=Q) \n",
    "\n",
    "matrix(F_32, 9, 9, lambda x, y: x * y)"
   ]
  },
  {
   "cell_type": "markdown",
   "id": "d398bd34-3e96-4d8b-8bac-e15b8cdb80d8",
   "metadata": {},
   "source": [
    "## Exercise55. \n",
    "Show that the polynomial $P=t^3+t+1$ from $F_5[t]$ is irreducible. Then consider the extension field F_{5^3} defined relative to P. Compute the multiplicative inverse of $(2t^2+4) \\in F_{5^3}$ using the Extended Euclidean Algorithm. Then find all $x \\in F_{5^3}$ that solve the following equation:\n",
    "\n",
    "$(2t^2 +4)(x−(t^2 +4t +2)) = (2t +3)$"
   ]
  },
  {
   "cell_type": "code",
   "execution_count": 56,
   "id": "476638bd-dc67-4899-bf07-995efe6581aa",
   "metadata": {},
   "outputs": [
    {
     "name": "stdout",
     "output_type": "stream",
     "text": [
      "we have that x is equal to the polynomial: v^2 + 2\n",
      "the slutions to the polynomial are: []\n"
     ]
    }
   ],
   "source": [
    "F5 = GF(5)\n",
    "R.<t> = PolynomialRing(F5)\n",
    "P = t^3 + t + 1\n",
    "\n",
    "for a in F5:\n",
    "    assert P(a) != 0\n",
    "\n",
    "F53.<v> = GF(5^3, modulus=P)\n",
    "\n",
    "f = 2 * v^2 + 4\n",
    "\n",
    "gcd, f_inv, b = xgcd(f, P)\n",
    "assert gcd == 1\n",
    "\n",
    "x = (2*v + 3) * f_inv + (v^2 + 4*v + 2)\n",
    "print(f\"we have that x is equal to the polynomial: {x}\")\n",
    "print(f\"the slutions to the polynomial are: {x.roots(F53, multiplicities=False)}\")"
   ]
  },
  {
   "cell_type": "markdown",
   "id": "fd26dd3d-5f11-45e0-97e1-8bd4368e9ec7",
   "metadata": {},
   "source": [
    "## Exercise 56. \n",
    "\n",
    "Consider the prime field F5. Show that the polynomial P = x2 + 2 from F5[x] isirreducible. Implement the finite field F52 in Sage."
   ]
  },
  {
   "cell_type": "code",
   "execution_count": 57,
   "id": "21c06e84-db37-4afc-bcf5-22e93fd853d9",
   "metadata": {},
   "outputs": [],
   "source": [
    "P = t^2 + 2\n",
    "\n",
    "for a in F5:\n",
    "    assert P(a) != 0\n",
    "\n",
    "F52.<v> = GF(5^2, modulus=P)"
   ]
  }
 ],
 "metadata": {
  "kernelspec": {
   "display_name": "SageMath 10.3",
   "language": "sage",
   "name": "sagemath-10.3"
  },
  "language_info": {
   "codemirror_mode": {
    "name": "ipython",
    "version": 3
   },
   "file_extension": ".py",
   "mimetype": "text/x-python",
   "name": "python",
   "nbconvert_exporter": "python",
   "pygments_lexer": "ipython3",
   "version": "3.11.1"
  }
 },
 "nbformat": 4,
 "nbformat_minor": 5
}
