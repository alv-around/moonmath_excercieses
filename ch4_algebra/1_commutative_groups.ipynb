{
 "cells": [
  {
   "cell_type": "markdown",
   "id": "17773d95-8fc6-466d-9d79-84c03923fe99",
   "metadata": {},
   "source": [
    "# Chapter 4 - Algebra\n",
    "\n",
    "## Exercise 33. \n",
    "\n",
    "Consider example 16 again, and let Z∗5 be the set of all remainder classes from Z5 without the class 0. Then Z∗ = {1,2,3,4}. Show that (Z∗,·) is a commutative group.\n",
    "\n",
    "**[others](https://github.com/ret2basic/moonmath/blob/master/algebra/README.ipynb) solution:**\n",
    "\n",
    "The map (multiplication) of all elements in\n",
    "\n",
    "have the following properties:\n",
    "\n",
    "- Closed due to multiplication\n",
    "- Associative due to multiplication\n",
    "- Commutative due to multiplication\n",
    "- Identity is \n",
    "\n",
    "Inverse exists for every element, as all elements are co-prime to With all these properties, the group is commutative. We can also see this from the table at example 16.\n",
    "\n",
    "## Exercise 34. \n",
    "\n",
    "Generalizing the previous exercise, consider the general modulus n, and let $Z^∗_n$ be the set of all remainder classes from Zn without the class 0. Then Z∗n = {1, 2, . . . , n − 1}. Provide a counter-example to show that (Z∗n,·) is not a group in general.\n",
    "Find a condition such that (Z∗n,·) is a commutative group, compute the neutral element, give a closed form for the inverse of any element and prove the commutative group axioms.\n",
    "\n",
    "**solution:**\n",
    "\n",
    "$let\\ n \\notin \\mathbb{P} \\rightarrow \\exists x \\in Z^*_n\\ s.t\\ \\nexists x^{-1}\\ \\in Z^*_n $\n",
    "\n",
    "## Exercise 35. \n",
    "\n",
    "Let $n \\in \\mathbb{N}$ with n ≥ 2 be some modulus. What is the order of the remainder class group $\\mathbb{G} = (Z_n,+)$?\n",
    "\n",
    "**solution:**\n",
    "$| \\mathbb{G}| = n$\n",
    "\n",
    "## Exercise 36. \n",
    "\n",
    "Consider the group (Z6,+) of modular 6 addition from example 11. Show that 5 ∈ Z6 is a generator, and then show that 2 ∈ Z6 is not a generator.\n",
    "\n",
    "**solution:**\n"
   ]
  },
  {
   "cell_type": "code",
   "execution_count": 1,
   "id": "b80900f6-c13d-469e-92f7-450b952ea0c0",
   "metadata": {},
   "outputs": [
    {
     "name": "stdout",
     "output_type": "stream",
     "text": [
      "0\n",
      "5\n",
      "4\n",
      "3\n",
      "2\n",
      "1\n"
     ]
    }
   ],
   "source": [
    "Z6 = Integers(6)\n",
    "G = Z6(1)\n",
    "\n",
    "for _ in range(6):\n",
    "    G += Z6(5) \n",
    "    print(G)"
   ]
  },
  {
   "cell_type": "markdown",
   "id": "29d36d75-296a-484b-a2ed-f05d263d8fa2",
   "metadata": {},
   "source": [
    "## Exercise 37. \n",
    "\n",
    "Let $p \\in \\mathbb{P}$ be prime number and $(Z^*_p,·)$ the finite group from exercise 34. Show that $(Z^*_p,·)$ is cyclic.\n",
    "\n",
    "**solution:**\n",
    "\n",
    "let $ \\forall a\\ s.t\\ 1 < a < p: gcd(a, p) = 1 \\rightarrow a^p \\equiv a (\\textrm{mod}\\ p) \\rightarrow a^1 \\equiv a (\\textrm{mod } p)$\n",
    "\n",
    "## Excercise 38.\n",
    "\n",
    "(Efficient Scalar Multiplication). Let (G,+) be a finite cyclic group of order n. Consider algorithm 5 and define its analog for groups in additive notation.\n",
    "\n",
    "**solution:**\n",
    "```\n",
    "Require: g group generator of order n \n",
    "Require: $x \\in Z_n$\n",
    "procedure Multiplication(g,x)\n",
    "    Let (b0,...,bk) be a binary representation of x\n",
    "    h←g\n",
    "    y←eG\n",
    "    for 0≤ j<k do\n",
    "        if\n",
    "            bj = 1 then y ← y + h\n",
    "        end if\n",
    "            h ← h + h \n",
    "    end for\n",
    "    return y \n",
    "end procedure\n",
    "Ensure: y=gx\n",
    "```\n",
    "\n",
    "## Exercise 39. \n",
    "\n",
    "Consider the previous example 40, and show that $Z^*_5[2]$ is a commutative group.\n",
    "\n",
    "**solution:**\n",
    "\n",
    "$Z^*_5[2] = {1, 4}$\n",
    "\n",
    "1. 1 · 4 = 4 · 1 = 4\n",
    "2. Assosiative because it has only two elements and nr. 1\n",
    "3. $e_{\\mathbb{G}} = 1$\n",
    "4. $1^{-1} = 1, 4^{-1} = 4$\n",
    "\n",
    "## Exercise 40. \n",
    "\n",
    "Consider the finite cyclic group (Z6,+) of modular 6 addition from example 36. Describe all subgroups of (Z6,+). Identify the large prime order subgroup of Z6, define its cofactor clearing map and apply that map to all elements of Z6.\n",
    "\n",
    "**solution:**\n",
    "\n",
    "|Z6| = 6 = 2 · 3\n",
    "\n",
    "Z6[3]; c = 2\n",
    "\n",
    "0 · 2 = 0, 1 · 2 = 2, 2 · 2 = 4, 3 · 2 = 0, 4 · 2 = 2, 5 · 2 = 4\n",
    "\n",
    "Z6[3] = {0, 2, 4}\n",
    "\n",
    "## Exercise 41. \n",
    "\n",
    "Let $(Z^∗_p,·)$ be the cyclic group from exercise 37. Show that, for p ≥ 5, not every element $x \\in F^*_p$ is a generator of $F^∗_p$.\n",
    "\n",
    "**solution:**\n",
    "\n",
    "$|Z^∗_p| = p - 1 = 2 · a · q; q \\in \\mathbb{P} and q < p \\rightarrow \\exists Z^∗_p[2a] and \\forall x \\in Z^∗_p[2a] x \\notin g of Z^∗_p$"
   ]
  },
  {
   "cell_type": "markdown",
   "id": "7330453c-755b-42c5-9819-19f1f9f812ff",
   "metadata": {},
   "source": [
    "## Exercise 44. \n",
    "\n",
    "Consider the multiplicative group Z^∗_{13} of modular 13 arithmetic from example 34. Choose a set of 3 generators of Z^∗_{13}, define its associated Pedersen Hash Function, and compute the Pedersen Hash of (3,7,11) ∈ Z12.\n",
    "\n",
    "**solution:**\n",
    "\n",
    "$|Z^∗_{13}| = 12 = 4 · 3$\n",
    "\n",
    "$g_{Z^∗_{13}} = \\{ 5, 7, 11 \\}$\n",
    "\n",
    "$H_{Z12} = 5^3 · 7^7 · 11^{11} = 8 · 6 · 6 = 2$\n",
    "\n",
    "\n",
    "## Exercise 45. \n",
    "\n",
    "Consider the Pedersen Hash from exercise 44. Compose it with the SHA256 hash function from example 47 to define a hash-to-group function. Implement that function in Sage."
   ]
  },
  {
   "cell_type": "code",
   "execution_count": 2,
   "id": "12079f83-18b2-4fc4-af8c-0311b655efdf",
   "metadata": {},
   "outputs": [
    {
     "name": "stdout",
     "output_type": "stream",
     "text": [
      "3 7 9\n"
     ]
    }
   ],
   "source": [
    "from hashlib import sha256\n",
    "\n",
    "Z13POS = Integers(13)\n",
    "\n",
    "def SHA256_H(x):\n",
    "    hasher = sha256(x)\n",
    "    digest = hasher.hexdigest()\n",
    "    z = ZZ(digest, 16) # cast into integer\n",
    "    z_bin = z.digits(base=2, padto=256) # cast to 256\n",
    "    return Z13POS(5)**z_bin[0] * Z13POS(7)**z_bin[1] * Z13POS(11)**z_bin[2]\n",
    "\n",
    "print(SHA256_H(b\"\"), SHA256_H(b\"SHA\"), SHA256_H(b\"Math\"))"
   ]
  },
  {
   "cell_type": "markdown",
   "id": "e956b36b-3b38-4a75-b066-b22582963081",
   "metadata": {},
   "source": [
    "## Exercise 46. \n",
    "\n",
    "Consider the multiplicative group $\\mathbb{Z}^∗_{13}$ of modular 13 arithmetic from example 34 and the parameter k = 3. Choose a generator of $\\mathbb{Z}^∗_{13}$, a seed and instantiate a member of the 13 family given in (4.27) for that seed. Evaluate that member on the binary string < 1, 0, 1 >"
   ]
  },
  {
   "cell_type": "code",
   "execution_count": 3,
   "id": "51694269-5c5d-4836-80d4-e633e0e4b671",
   "metadata": {},
   "outputs": [
    {
     "name": "stdout",
     "output_type": "stream",
     "text": [
      "random elements: [3, 8, 8]\n"
     ]
    },
    {
     "data": {
      "text/plain": [
       "2"
      ]
     },
     "execution_count": 3,
     "metadata": {},
     "output_type": "execute_result"
    }
   ],
   "source": [
    "from math import prod\n",
    "\n",
    "bin_str = b'101'\n",
    "Z13POS.random_element()\n",
    "random_elements = []\n",
    "while len(random_elements) < 3:\n",
    "    x = Z13POS.random_element()\n",
    "    if x != 0:\n",
    "        random_elements.append(x)\n",
    "print(f\"random elements: {random_elements}\")\n",
    "\n",
    "def dhh_pseudorandom(bit_string: bytearray, seed: [int]) -> Z13POS:\n",
    "    G = Z13POS(7)\n",
    "    exponent = seed[0] * prod([a**b for (a, b) in  zip(seed[1:], bit_string[1:])])\n",
    "    return G ** exponent\n",
    "\n",
    "dhh_pseudorandom(bin_str, random_elements)"
   ]
  }
 ],
 "metadata": {
  "kernelspec": {
   "display_name": "SageMath 10.3",
   "language": "sage",
   "name": "sagemath-10.3"
  },
  "language_info": {
   "codemirror_mode": {
    "name": "ipython",
    "version": 3
   },
   "file_extension": ".py",
   "mimetype": "text/x-python",
   "name": "python",
   "nbconvert_exporter": "python",
   "pygments_lexer": "ipython3",
   "version": "3.11.1"
  }
 },
 "nbformat": 4,
 "nbformat_minor": 5
}
