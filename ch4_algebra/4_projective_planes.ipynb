{
 "cells": [
  {
   "cell_type": "markdown",
   "id": "52404d62-32ff-4d86-a5b5-c5cdfbe8461c",
   "metadata": {},
   "source": [
    "## Exercise 57. \n",
    "\n",
    "Construct the so-called Fano plane, that is, the projective plane over the finite field $F_2$."
   ]
  },
  {
   "cell_type": "code",
   "execution_count": 60,
   "id": "16f68dbd-e617-416a-954f-3013c8d8ff3a",
   "metadata": {},
   "outputs": [
    {
     "name": "stdout",
     "output_type": "stream",
     "text": [
      "points\n",
      "[(0 : 0 : 1), (0 : 1 : 1), (1 : 0 : 1), (1 : 1 : 1), (0 : 1 : 0), (1 : 1 : 0), (1 : 0 : 0)]\n",
      "affine points\n",
      "[(0 : 0 : 1), (0 : 1 : 1), (1 : 0 : 1), (1 : 1 : 1)]\n",
      "points at infinity\n",
      "[(0 : 1 : 0), (1 : 1 : 0), (1 : 0 : 0)]\n"
     ]
    }
   ],
   "source": [
    "# Define the finite field F2\n",
    "F2 = GF(2)\n",
    "\n",
    "# Define the polynomial ring over F2\n",
    "R.<x> = PolynomialRing(F2)\n",
    "\n",
    "# Define the extension field of F2\n",
    "F4.<alpha> = GF(2^2)\n",
    "\n",
    "# Projective space of dimension 2 over F2\n",
    "P = ProjectiveSpace(F2, 2)\n",
    "\n",
    "# Get the points in the projective space\n",
    "points = P.rational_points()\n",
    "print(\"points\")\n",
    "print(points)\n",
    "\n",
    "# Separate affine points and points at infinity\n",
    "affine_points = [p for p in points if p[2] == 1]\n",
    "points_at_infinity = [p for p in points if p[2] == 0]\n",
    "\n",
    "print(\"affine points\")\n",
    "print(affine_points)\n",
    "print(\"points at infinity\")\n",
    "print(points_at_infinity)"
   ]
  },
  {
   "cell_type": "code",
   "execution_count": null,
   "id": "70070e8a-be6e-4fb9-93bd-f4d429890929",
   "metadata": {},
   "outputs": [],
   "source": []
  }
 ],
 "metadata": {
  "kernelspec": {
   "display_name": "SageMath 10.3",
   "language": "sage",
   "name": "sagemath-10.3"
  },
  "language_info": {
   "codemirror_mode": {
    "name": "ipython",
    "version": 3
   },
   "file_extension": ".py",
   "mimetype": "text/x-python",
   "name": "python",
   "nbconvert_exporter": "python",
   "pygments_lexer": "ipython3",
   "version": "3.11.1"
  }
 },
 "nbformat": 4,
 "nbformat_minor": 5
}
