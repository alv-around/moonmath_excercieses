{
 "cells": [
  {
   "cell_type": "markdown",
   "id": "7c60c5b3-f3d2-4896-ab68-79f09fc4695c",
   "metadata": {},
   "source": [
    "## Exercise 114.\n",
    "\n",
    "> Implement the Baby-JubJub twisted Edwards curve equation in Circom and compile it into an R1CS and associated witness generator.\n",
    "\n",
    "```bash\n",
    "$ circom ex114.circom --r1cs --wasm --sym --c\n",
    "```\n",
    "\n",
    "## Exercise 115. \n",
    "\n",
    "> Consider exercise 114 and execute a 3-party trusted setup phase for the baby- jubjub circuit.\n",
    "\n",
    "```bash\n",
    "$ snarkjs powersoftau new bn128 4 pot4_0000.ptau -v\n",
    "$ snarkjs powersoftau contribute pot4_0000.ptau pot4_0001.ptau -name=\"1st_cont\" -v\n",
    "$ snarkjs powersoftau verify pot4_0001.ptau\n",
    "$ snarkjs powersoftau beacon pot4_0001.ptau pot4_beacon.ptau 0102030405060708090a0b0c00 10 -n=\"Final Beacon\"\n",
    "$ snarkjs powersoftau prepare phase2 pot4_beacon.ptau pot4_final.ptau -v\n",
    "$ snarkjs powersoftau verify pot4_final.ptau\n",
    "$ snarkjs groth16 setup ex114.r1cs pot4_final.ptau ex114_check_baby_jubjub.zkey\n",
    "```\n",
    "\n",
    "## Exercise 116. \n",
    "\n",
    "> Consider exercise 114 and the CRS from exercise 115. Use Sage to generate a valid curve point on the Baby-JubJub curve in twisted Edwards form, that is not the neutral element and use this point as input to the circuit. Generate a witness for this input and use Snark.js to compute an instance as well as a zk-SNARK for this witness.\n",
    "\n",
    "we know the Twisted Edwards Curve fulfills the following equation:\n",
    "\n",
    "$$\n",
    "\\begin{align*}\n",
    "    a \\cdot x^2 + y^2 = 1 + d \\cdot x^2 \\cdot y^2\n",
    "\\end{align*}\n",
    "$$\n",
    "solving for $y$ we have that:\n",
    "\n",
    "$$\n",
    "\\begin{align*}\n",
    "    a \\cdot x^2 - 1 &= d \\cdot x^2 \\cdot y^2 - y^2 \\\\\n",
    "    a \\cdot x^2 - 1 &= (d \\cdot x^2  - 1) \\cdot y^2 \\\\\n",
    "    y^2 &= \\frac{a \\cdot x^2 - 1}{d \\cdot x^2  - 1}\n",
    "\\end{align*}\n",
    "$$\n",
    "\n",
    "**solution:** get a random $x$ and solve for $y$\n",
    "\n",
    "Sagecode:"
   ]
  },
  {
   "cell_type": "code",
   "execution_count": 14,
   "id": "56b7bb39-a1f4-437f-b562-c63efaa20124",
   "metadata": {},
   "outputs": [
    {
     "name": "stdout",
     "output_type": "stream",
     "text": [
      "(16986086298120674819542782247846808825933108632118439353546377158497680851273, 1293999442195814645412834676310522907979985549006820516227435268300304500835)\n"
     ]
    }
   ],
   "source": [
    "p = 21888242871839275222246405745257275088548364400416034343698204186575808495617\n",
    "F = GF(p)\n",
    "a = F(168700)\n",
    "d = F(168696)\n",
    "\n",
    "class BabyJubJub():\n",
    "    def __init__(self, x, y):\n",
    "        self.__a = a\n",
    "        self.__d = d\n",
    "        self.x = F(x)\n",
    "        self.y = F(y)\n",
    "        assert self.__a * self.x^2 + self.y^2 == 1 + self.__d * self.x^2 * self.y^2\n",
    "\n",
    "    def __str__(self):\n",
    "        return f\"({self.x}, {self.y})\"\n",
    "\n",
    "while True:\n",
    "    x = F.random_element()\n",
    "    y_square = (a * x^2 - 1) / (d * x^2 - 1)\n",
    "    if y_square.is_square():\n",
    "        y = y_square.sqrt()\n",
    "        print(BabyJubJub(x, y))\n",
    "        break"
   ]
  },
  {
   "cell_type": "markdown",
   "id": "0235acdb-44dc-4eb1-b046-b3a65ef25c35",
   "metadata": {},
   "source": [
    "the run the next command to generate the witness\n",
    "\n",
    "```bash\n",
    "$ cd ex114_js  \n",
    "$ node generate_witness.js ex114.wasm ../ex114_witness.json ex114_witness.wtns\n",
    "$ snarkjs groth16 prove ../ex114_check_baby_jubjub.zkey ex114_witness.wtns ../proof.json ../public.json\n",
    "```\n",
    "\n",
    "## Exercise 117. \n",
    "\n",
    "> Consider exercise 114, the CRS from exercise 115 as well as the instance and zk-SNARK from exercise 116 and verify the zk-SNARK against the instance.\n",
    "\n",
    "Run the following commands:\n",
    "\n",
    "```bash\n",
    "$ cd .. \n",
    "$ snarkjs zkey export verificationkey ex114_check_baby_jubjub.zkey verification_key.json\n",
    "$ snarkjs groth16 verify verification_key.json public.json proof.json\n",
    "```"
   ]
  },
  {
   "cell_type": "code",
   "execution_count": null,
   "id": "176a7d63-d9ae-4997-a70f-76b0843be6df",
   "metadata": {},
   "outputs": [],
   "source": []
  }
 ],
 "metadata": {
  "kernelspec": {
   "display_name": "SageMath 10.3",
   "language": "sage",
   "name": "sagemath-10.3"
  },
  "language_info": {
   "codemirror_mode": {
    "name": "ipython",
    "version": 3
   },
   "file_extension": ".py",
   "mimetype": "text/x-python",
   "name": "python",
   "nbconvert_exporter": "python",
   "pygments_lexer": "ipython3",
   "version": "3.11.8"
  }
 },
 "nbformat": 4,
 "nbformat_minor": 5
}
