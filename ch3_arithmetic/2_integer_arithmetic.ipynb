{
 "cells": [
  {
   "cell_type": "markdown",
   "id": "e4bec611-c6c9-4f27-a5f0-2c9df9531352",
   "metadata": {},
   "source": [
    "## Exercise 1. \n",
    "What is the absolute value of the integers −123, 27 and 0?\n",
    "\n",
    "**solution:**\n",
    "- |-123| = 123\n",
    "- |27| = 27\n",
    "- |0| = 0\n",
    "## Exercise 2. \n",
    "Compute the factorization of 30030 and double-check your results using Sage.\n",
    "\n",
    "**solution:**"
   ]
  },
  {
   "cell_type": "code",
   "execution_count": 7,
   "id": "e02cdd61-19f7-4160-a242-8035b61ff44c",
   "metadata": {},
   "outputs": [
    {
     "data": {
      "text/plain": [
       "2 * 3 * 5 * 7 * 11 * 13"
      ]
     },
     "execution_count": 7,
     "metadata": {},
     "output_type": "execute_result"
    }
   ],
   "source": [
    "factor(30030)"
   ]
  },
  {
   "cell_type": "markdown",
   "id": "1219da91-3302-493f-b48e-a3c6687ebddd",
   "metadata": {},
   "source": [
    "## Exercise 3. \n",
    "Consider the following equation:\n",
    "\n",
    "$4x + 21 = 5$\n",
    "\n",
    "Compute the set of all solutions for x under the following alternative assumptions:\n",
    "1. The equation is defined over the set of natural numbers.\n",
    "2. The equation is defined over the set of integers.\n",
    "\n",
    "**solution:**\n",
    "1. $\\{ \\emptyset \\}$.\n",
    "2. x = -4"
   ]
  },
  {
   "cell_type": "markdown",
   "id": "ae10589b-6dd3-405c-88bb-d83a024bffb3",
   "metadata": {},
   "source": [
    "## Exercise 4. \n",
    "Consider the following equation:\n",
    "\n",
    "$2x^3 − x^2 − 2x = −1$\n",
    "\n",
    "Compute the set of all solutions x under the following assumptions:\n",
    "1. The equation is defined over the set of natural numbers.\n",
    "2. The equation is defined over the set of integers.\n",
    "3. The equation is defined over the set of rational numbers.\n",
    "\n",
    "**solution:**"
   ]
  },
  {
   "cell_type": "code",
   "execution_count": 123,
   "id": "3d7f8ee3-f95d-48ff-bbf8-c9ea98e840b2",
   "metadata": {},
   "outputs": [
    {
     "name": "stdout",
     "output_type": "stream",
     "text": [
      "1. (2*x - 1)*(x + 1)*(x - 1) == 0\n",
      "2. (y - 1) * (y + 1) * (2*y - 1)\n",
      "3. (2) * (z - 1) * (z - 1/2) * (z + 1)\n"
     ]
    }
   ],
   "source": [
    "# The natural numbers does not form a ring\n",
    "intpoly.<y> = PolynomialRing(ZZ)\n",
    "ratpoly.<z> = PolynomialRing(QQ)\n",
    "\n",
    "var('x')\n",
    "eq1 = 2*x^3 - x^2 - 2*x + 1 == 0\n",
    "eq2 = 2*y^3 - y^2 - 2*y + 1\n",
    "eq3 = 2*z^3 - z^2 - 2*z + 1\n",
    "\n",
    "sol_1 = factor(eq1)\n",
    "sol_2 = factor(eq2)\n",
    "sol_3 = factor(eq3)\n",
    "\n",
    "print(f\"1. {sol_1}\")\n",
    "print(f\"2. {sol_2}\")\n",
    "print(f\"3. {sol_3}\")"
   ]
  },
  {
   "cell_type": "markdown",
   "id": "a330490c-f40d-4561-a55e-153d22de1181",
   "metadata": {},
   "source": [
    "## Exercise 5 (Integer Long Division). \n",
    "Find an $m \\in Z$ and an $r \\in N$ with $0 <= r < |b|$ such that\n",
    "$a = mb + r$ holds for the following pairs:\n",
    "- (a, b) = (27, 5)\n",
    "- (a, b) = (27, −5)\n",
    "- (a, b) = (127, 0)\n",
    "- (a, b) = (−1687, 11)\n",
    "- (a, b) = (0, 7)"
   ]
  },
  {
   "cell_type": "code",
   "execution_count": 80,
   "id": "a9cc8ad6-178c-4159-9e50-fcb34dcefc4d",
   "metadata": {},
   "outputs": [
    {
     "name": "stdout",
     "output_type": "stream",
     "text": [
      "for a = 27 and b = 5), 27 = 5 * 5 + 2 \n",
      "for a = 27 and b = -5), 27 = -6 * -5 + -3 \n",
      "for a = 127 and b = 0),no solution when b = 0\n",
      "for a = -1687 and b = 11), -1687 = -154 * 11 + 7 \n",
      "for a = 0 and b = 7), 0 = 0 * 7 + 0 \n"
     ]
    }
   ],
   "source": [
    "a_b_s = [(27, 5), (27, -5), (127, 0), (-1687, 11), (0, 7)]\n",
    "for a, b in a_b_s:\n",
    "    if b == 0:\n",
    "        print(f\"for a = {a} and b = {b}),no solution when b = 0\")\n",
    "        continue\n",
    "    m, r = a // b, a % b\n",
    "    print(f\"for a = {a} and b = {b}), {a} = {m} * {b} + {r} \")\n",
    "    assert(a == b * m + r)"
   ]
  },
  {
   "cell_type": "markdown",
   "id": "d557c309-491f-463f-b855-0f97ce2d56c9",
   "metadata": {},
   "source": [
    "## Exercise 6 (Long Division Algorithm). \n",
    "Using the programming language of your choice, write an algorithm that computes integer long division and handles all edge cases properly."
   ]
  },
  {
   "cell_type": "code",
   "execution_count": null,
   "id": "bdbf03ab-90a1-4320-8be5-390733c3b834",
   "metadata": {},
   "outputs": [],
   "source": []
  },
  {
   "cell_type": "markdown",
   "id": "05207ee2-bd5b-4ff4-933c-28a52ff93f7a",
   "metadata": {},
   "source": [
    "## Excercise 7 (Binary Representation). \n",
    "Write an algorithm that computes the binary representation 3.13 of any non-negative integer."
   ]
  },
  {
   "cell_type": "code",
   "execution_count": 66,
   "id": "58a5a748-bee5-4e9f-a435-4f4f5235abd9",
   "metadata": {},
   "outputs": [],
   "source": [
    "def NN_to_bin(n: int, b: int = '', uneven: bool = False) -> int:\n",
    "    if n == 0: return b[::-1]\n",
    "    return NN_to_bin(n // 2 , b + str(n % 2), uneven)\n",
    "\n",
    "for _ in range(1000):\n",
    "    a = randint(1, 10**6)\n",
    "    assert(NN_to_bin(a) == NN(a).str(2))"
   ]
  },
  {
   "cell_type": "markdown",
   "id": "24b6b84d-bc43-4e97-afcc-ead11ec3b361",
   "metadata": {},
   "source": [
    "## Exercise 8 (Extended Euclidean Algorithm). \n",
    "Find integers $s,t \\in Z$ such that $gcd(a, b) = sa + tb$ holds for the following pairs:\n",
    "- (a, b) = (45, 10)\n",
    "- (a, b) = (13, 11)\n",
    "- (a, b) = (13, 12)"
   ]
  },
  {
   "cell_type": "code",
   "execution_count": 86,
   "id": "32a6add2-401b-49c9-a350-3f1ee5298c45",
   "metadata": {},
   "outputs": [
    {
     "name": "stdout",
     "output_type": "stream",
     "text": [
      "for a = 45 and b = 10, 5 = 1 a + -4 b\n",
      "for a = 13 and b = 11, 1 = -5 a + 6 b\n",
      "for a = 13 and b = 12, 1 = 1 a + -1 b\n"
     ]
    }
   ],
   "source": [
    "def EEA(a,b):\n",
    "    if b == 0: return (a,1,0)\n",
    "    d,s,t = EEA(b, a % b)\n",
    "    return (d, t, s - (a//b) * t)\n",
    "\n",
    "abs = [(45, 10), (13, 11), (13, 12)]\n",
    "for a, b in abs:\n",
    "    gcd, s, t = EEA(a, b)\n",
    "    print(f\"for a = {a} and b = {b}, {gcd} = {s} a + {t} b\")"
   ]
  },
  {
   "cell_type": "markdown",
   "id": "1796aa46-815a-4c8e-a488-1ed7f6ec0e72",
   "metadata": {},
   "source": [
    "## Exercise 9 (Towards Prime fields). \n",
    "Let $n \\in N$ be a natural number and p a prime number, such that n < p. What is the greatest common divisor gcd(p, n)?\n",
    "\n",
    "**solution:** 1 else gcd(n, p) = a st a > 1, then a|p and thus p wouldn't be prime"
   ]
  },
  {
   "cell_type": "markdown",
   "id": "439cc6df-1af2-4d43-8a7b-b43c3aa38913",
   "metadata": {},
   "source": [
    "## Exercise 10.\n",
    "Find all numbers $k \\in N$ with $0 <= k <= 100$ such that gcd(100, k) = 5."
   ]
  },
  {
   "cell_type": "code",
   "execution_count": 83,
   "id": "ea0a3dcc-90f0-44d4-8af3-c6e6f5ea2d3c",
   "metadata": {},
   "outputs": [
    {
     "data": {
      "text/plain": [
       "[5, 15, 35, 45, 55, 65, 85, 95]"
      ]
     },
     "execution_count": 83,
     "metadata": {},
     "output_type": "execute_result"
    }
   ],
   "source": [
    "numbers = []\n",
    "for k in range(100):\n",
    "    if k % 5 == 0 and not (k % 2 == 0 or k % 25 == 0):\n",
    "        numbers.append(k)\n",
    "\n",
    "numbers"
   ]
  },
  {
   "cell_type": "markdown",
   "id": "ddd1b35c-abf4-4fe4-af75-4f09f25e0009",
   "metadata": {},
   "source": [
    "## Exercise 11. \n",
    "Show that gcd(n, m) = gcd(n + m, m) for all $n, m \\in N$.\n",
    "\n",
    "**solution:**\n",
    "let gcd(n, m) = d; d|n and d|m\n",
    "\n",
    "gcd(n + m, m) = s (n + m) + t (m); sincd d|n and d|m then d|n+m"
   ]
  },
  {
   "cell_type": "markdown",
   "id": "3cde8d77-9f45-43ef-8b75-e9e65bc88ff6",
   "metadata": {},
   "source": [
    "## Exercise 12. \n",
    "Consider exercise 8 again. Which pairs (a, b) from that exercise are coprime?\n",
    "\n",
    "**solution:** 2 & 3 because gcd(a,b) = 1"
   ]
  },
  {
   "cell_type": "markdown",
   "id": "04d01b19-06ba-4862-b9b3-771b0473f225",
   "metadata": {},
   "source": [
    "## Exercise 13. \n",
    "Consider the octal positional system, which represents integers with 8 digits, usu-\n",
    "ally written as {0, 1, 2, 3, 4, 5, 6, 7}. Numbers in this system are characterized by the prefix 0o.\n",
    "Write the numbers 0o1354 and 0o777 into their decimal representation."
   ]
  },
  {
   "cell_type": "code",
   "execution_count": 107,
   "id": "2cae2776-9853-45dd-945c-22e6c53fa079",
   "metadata": {},
   "outputs": [],
   "source": [
    "def octal_to_dec(n:str) -> int:\n",
    "    assert(n[:2] == '0o')\n",
    "    return sum(int(x) * 8 ** i for i, x in enumerate([*n[2:][::-1]]))\n",
    "\n",
    "assert(NN(octal_to_dec('0o1354')).str(8) == '1354')\n",
    "assert(NN(octal_to_dec('0o777')).str(8) == '777')"
   ]
  },
  {
   "cell_type": "code",
   "execution_count": 105,
   "id": "794620ef-3b48-4541-ac01-272dc1d77ee5",
   "metadata": {},
   "outputs": [
    {
     "name": "stdout",
     "output_type": "stream",
     "text": [
      "['4', '5', '3', '1']\n"
     ]
    },
    {
     "data": {
      "text/plain": [
       "'1354'"
      ]
     },
     "execution_count": 105,
     "metadata": {},
     "output_type": "execute_result"
    }
   ],
   "source": [
    "NN(octal_to_dec('0o1354')).str(8) ="
   ]
  }
 ],
 "metadata": {
  "kernelspec": {
   "display_name": "SageMath 10.3",
   "language": "sage",
   "name": "sagemath-10.3"
  },
  "language_info": {
   "codemirror_mode": {
    "name": "ipython",
    "version": 3
   },
   "file_extension": ".py",
   "mimetype": "text/x-python",
   "name": "python",
   "nbconvert_exporter": "python",
   "pygments_lexer": "ipython3",
   "version": "3.11.1"
  }
 },
 "nbformat": 4,
 "nbformat_minor": 5
}
