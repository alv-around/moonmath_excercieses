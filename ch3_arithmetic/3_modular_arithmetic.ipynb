{
 "cells": [
  {
   "cell_type": "markdown",
   "id": "2a0d0546-02b1-43ac-b695-36cca8beeccd",
   "metadata": {},
   "source": [
    "## Exercise 14. \n",
    "Which of the following pairs of numbers are congruent with respect to the modulus 13:"
   ]
  },
  {
   "cell_type": "code",
   "execution_count": 119,
   "id": "16387abc-763f-44b9-9f3a-79cedf831ae2",
   "metadata": {},
   "outputs": [
    {
     "data": {
      "text/plain": [
       "[(13, 0), (-4, 9), (0, 0)]"
      ]
     },
     "execution_count": 119,
     "metadata": {},
     "output_type": "execute_result"
    }
   ],
   "source": [
    "points = [(5, 19), (13, 0), (-4, 9), (0, 0)]\n",
    "R = GF(13)\n",
    "\n",
    "[(a,b) for a, b in points if R(a) == R(b) ]"
   ]
  },
  {
   "cell_type": "markdown",
   "id": "eac2f48b-b5d2-453e-88ba-e761ee677b57",
   "metadata": {},
   "source": [
    "## Exercise 15. \n",
    "Find all integers x, such that the congruence $x \\equiv 4\\ (\\textrm{mod}\\ 6 )$ is satisfied."
   ]
  },
  {
   "cell_type": "code",
   "execution_count": 118,
   "id": "fbfe8ba0-9fc7-4357-a7a0-25bad8ee2824",
   "metadata": {},
   "outputs": [
    {
     "name": "stdout",
     "output_type": "stream",
     "text": [
      "[4, 10, 16, 22, 28, 34, 40, 46, 52, 58, 64, 70, 76, 82, 88, 94, 100, 106, 112, 118, 124, 130, 136, 142, 148, 154, 160, 166, 172, 178, 184, 190, 196, 202, 208, 214, 220, 226, 232, 238, 244, 250, 256, 262, 268, 274, 280, 286, 292, 298, 304, 310, 316, 322, 328, 334, 340, 346, 352, 358, 364, 370, 376, 382, 388, 394, 400, 406, 412, 418, 424, 430, 436, 442, 448, 454, 460, 466, 472, 478, 484, 490, 496, 502, 508, 514, 520, 526, 532, 538, 544, 550, 556, 562, 568, 574, 580, 586, 592, 598, 604, 610, 616, 622, 628, 634, 640, 646, 652, 658, 664, 670, 676, 682, 688, 694, 700, 706, 712, 718, 724, 730, 736, 742, 748, 754, 760, 766, 772, 778, 784, 790, 796, 802, 808, 814, 820, 826, 832, 838, 844, 850, 856, 862, 868, 874, 880, 886, 892, 898, 904, 910, 916, 922, 928, 934, 940, 946, 952, 958, 964, 970, 976, 982, 988, 994]\n"
     ]
    }
   ],
   "source": [
    "R = Integers(6)\n",
    "\n",
    "print([x for x in range(1000) if R(x) == 4])"
   ]
  },
  {
   "cell_type": "markdown",
   "id": "eecb9564-8dea-4df3-be96-c221ff59495d",
   "metadata": {},
   "source": [
    "## Exercise 16. \n",
    "Consider the modulus 13 and find all solutions x ∈ Z to the following congruence:\n",
    "$5x + 4 \\equiv 28 + 2x\\ (\\textrm{mod}\\ 13 )$\n",
    "\n",
    "**solution:**\n",
    "\n",
    "$ 3x \\equiv 24\\ (\\textrm{mod}\\ 13) \\rightarrow 3x \\equiv 11\\ (\\textrm{mod}\\ 13 ) \\rightarrow x \\equiv 11 \\cdot 3^{-1}\\ (\\textrm{mod}\\ 13 )\\rightarrow x \\equiv 11 \\cdot 9\\ (\\textrm{mod}\\ 13 ) \\rightarrow x \\equiv 8\\ (\\textrm{mod}\\ 13 )$\n",
    "\n",
    "$x \\in \\{ .., -5, 8, 21, 34, .. \\}$\n",
    "## Exercise 17. \n",
    "Consider the modulus 23 and find all solutions x ∈ Z to the following congruence:\n",
    "$69x \\equiv 5\\ (\\textrm{mod}\\ 23 )$\n",
    "\n",
    "**solution:**\n",
    "\n",
    "$69x \\equiv 5\\ (\\textrm{mod}\\ 23 ) \\rightarrow 0 \\cdot x \\equiv 5\\ (\\textrm{mod}\\ 23 )$\n",
    "\n",
    "$x \\in \\emptyset$\n",
    "\n",
    "## Exercise 18. \n",
    "Consider the modulus 23 and find all solutions x ∈ Z to the following congruence:\n",
    "$69x \\equiv 46\\ (\\textrm{mod}\\ 23 )$\n",
    "\n",
    "**solution:**\n",
    "\n",
    "$69x \\equiv 46\\ (\\textrm{mod}\\ 23 ) \\rightarrow 0 \\cdot x \\equiv 0 (\\textrm{mod}\\ 23 ) \\rightarrow x \\equiv 0 (\\textrm{mod}\\ 23 )$\n",
    "\n",
    "$\\forall x \\in Z$\n",
    "\n",
    "## Exercise 19. \n",
    "Let a, b, k be integers, such that $a \\equiv b\\ (\\textrm{mod}\\ n )$ holds. Show $ak \\equiv bk\\ (\\textrm{mod}\\ n )$.\n",
    "\n",
    "**solution:**\n",
    "\n",
    "$a \\equiv b\\ (\\textrm{mod}\\ n ) \\rightarrow a = c\\cdot n + b \\rightarrow k \\cdot a = k \\cdot (c\\cdot n + b) \\rightarrow   k \\cdot a = k \\cdot c\\cdot n + k \\cdot b \\rightarrow  a \\cdot k \\equiv b \\cdot k\\ (\\textrm{mod}\\ n)$\n",
    "\n",
    "## Exercise 20. \n",
    "Let a, n be integers, such that a and n are not coprime. For which b ∈ Z does the\n",
    "congruence $a \\cdot x \\equiv b\\ (\\textrm{mod}\\ n )$ have a solution x and how does the solution set look in that case?\n",
    "\n",
    "**solution:**\n",
    "\n",
    "$gcd(a, n) = c,\\ s.t.\\ c > 1$\n",
    "\n",
    "$a \\cdot x \\equiv b\\ (\\textrm{mod}\\ n ) \\rightarrow a\\cdot x = m\\cdot n + b \\rightarrow a \\cdot x - m \\cdot n = b \\rightarrow c \\cdot (a/c \\cdot x - m \\cdot n/c) = b \\rightarrow a/c \\cdot x - m \\cdot n/c = b / c$\n",
    "\n",
    "x has only a solution if and only if c|b"
   ]
  },
  {
   "cell_type": "markdown",
   "id": "81365c26-c9e3-4889-bfce-780e10dc3e72",
   "metadata": {},
   "source": [
    "## Exercise 21. \n",
    "Define $Z_{13}$ as the the arithmetic modulo 13 analogously to example 11. Then\n",
    "consider the congruence from exercise 16 and rewrite it into an equation in $Z_{13}$."
   ]
  },
  {
   "cell_type": "code",
   "execution_count": 151,
   "id": "c39cebb9-edcc-4700-baa0-91c2509abc80",
   "metadata": {},
   "outputs": [
    {
     "data": {
      "text/plain": [
       "3*x + 2"
      ]
     },
     "execution_count": 151,
     "metadata": {},
     "output_type": "execute_result"
    }
   ],
   "source": [
    "Z13 = Integers(13)\n",
    "Z13x = Z13['x']\n",
    "Z13x([4, 5]) - Z13x([28, 2])"
   ]
  },
  {
   "cell_type": "markdown",
   "id": "42fdbd91-1367-4f5d-bb73-ca306be22521",
   "metadata": {},
   "source": [
    "## Exercise 22. \n",
    "Consider the modulus n = 24. Which of the integers 7, 1, 0, 805, −4255 have\n",
    "multiplicative inverses in modular 24 arithmetic? Compute the inverses, in case they exist."
   ]
  },
  {
   "cell_type": "code",
   "execution_count": 138,
   "id": "40a68aed-f28e-4b03-8b9a-c71e1db02dd6",
   "metadata": {},
   "outputs": [
    {
     "name": "stdout",
     "output_type": "stream",
     "text": [
      "integer 7 has a multiplicative inverse 7 in Z24\n",
      "integer 1 has a multiplicative inverse 1 in Z24\n",
      "integer 805 has a multiplicative inverse -11 in Z24\n",
      "integer -4255 has a multiplicative inverse -7 in Z24\n"
     ]
    }
   ],
   "source": [
    "Z24 = Integers(24)\n",
    "\n",
    "for x in [7, 1, 0, 805, -4255]:\n",
    "    gcd, s, _ = EEA(x, 24)\n",
    "    if gcd == 1:\n",
    "        assert(Z24(x) * Z24(s) == 1)\n",
    "        print(f\"integer {x} has a multiplicative inverse {s} in Z24\")\n",
    "    "
   ]
  },
  {
   "cell_type": "markdown",
   "id": "15b32ad5-0568-4118-ba2f-16de6c3c2ed4",
   "metadata": {},
   "source": [
    "## Exercise 23.\n",
    "Find the set of all solutions to the congruence 17(2x + 5) − 4 ≡ 2x + 4 ( mod 5 ).\n",
    "Then project the congruence into $Z_5$ and solve the resulting equation in $Z_{5}$. Compare the results."
   ]
  },
  {
   "cell_type": "code",
   "execution_count": 156,
   "id": "f31ad4fa-a724-484b-be86-6e6c9718351c",
   "metadata": {},
   "outputs": [
    {
     "data": {
      "text/plain": [
       "2*x + 2"
      ]
     },
     "execution_count": 156,
     "metadata": {},
     "output_type": "execute_result"
    }
   ],
   "source": [
    "Z5 = Integers(5)\n",
    "Z5x = Z5['x']\n",
    "Z5x(17) * Z5x([5, 2]) - Z5x(4) - Z5x([4, 2])"
   ]
  },
  {
   "cell_type": "markdown",
   "id": "ea0c012a-85f4-49e0-9079-c6c96db21df4",
   "metadata": {},
   "source": [
    "**solution:**\n",
    "\n",
    "$ 2x \\equiv -2\\ (\\textrm{mod}\\ 5) \\rightarrow 2x \\equiv 3 \\ (\\textrm{mod}\\ 5 ) \\rightarrow x \\equiv 3 \\cdot 2^{-1} \\ (\\textrm{mod}\\ 5 ) \\rightarrow x \\equiv 9 \\ (\\textrm{mod}\\ 5 ) \\rightarrow x \\equiv 4 \\ (\\textrm{mod}\\ 5 )$\n",
    "\n",
    "$x \\in \\{.., -1, 4, 9, ..\\}$"
   ]
  },
  {
   "cell_type": "markdown",
   "id": "4eb6f9aa-959a-44af-af19-7d2a2e78b533",
   "metadata": {},
   "source": [
    "## Exercise 24.\n",
    "Find the set of all solutions to the congruence 17(2x + 5) − 4 ≡ 2x + 4 ( mod 6 ).\n",
    "Then project the congruence into $Z_6$ and try to solve the resulting equation in $Z_6$"
   ]
  },
  {
   "cell_type": "code",
   "execution_count": 157,
   "id": "95ab2310-4ff6-415b-86af-1e126cae633f",
   "metadata": {},
   "outputs": [
    {
     "data": {
      "text/plain": [
       "2*x + 5"
      ]
     },
     "execution_count": 157,
     "metadata": {},
     "output_type": "execute_result"
    }
   ],
   "source": [
    "Z6 = Integers(6)\n",
    "Z6x = Z6['x']\n",
    "Z6x(17) * Z6x([5, 2]) - Z6x(4) - Z6x([4, 2])"
   ]
  },
  {
   "cell_type": "markdown",
   "id": "dc067085-e556-4678-a026-b4669155f8d0",
   "metadata": {},
   "source": [
    "**solution:**\n",
    "\n",
    "$ 2x \\equiv -5\\ (\\textrm{mod}\\ 6) \\rightarrow 2x \\equiv 1 \\ (\\textrm{mod}\\ 6 ) \\rightarrow x \\equiv 2^{-1} \\ (\\textrm{mod}\\ 6 ) $\n",
    "\n",
    "$x \\in \\emptyset$"
   ]
  },
  {
   "cell_type": "code",
   "execution_count": 160,
   "id": "bcb8746b-ffe1-4524-90b6-c51138e9288f",
   "metadata": {},
   "outputs": [
    {
     "ename": "ZeroDivisionError",
     "evalue": "inverse of Mod(2, 6) does not exist",
     "output_type": "error",
     "traceback": [
      "\u001b[0;31m---------------------------------------------------------------------------\u001b[0m",
      "\u001b[0;31mZeroDivisionError\u001b[0m                         Traceback (most recent call last)",
      "Cell \u001b[0;32mIn[160], line 1\u001b[0m\n\u001b[0;32m----> 1\u001b[0m \u001b[43mZ6\u001b[49m\u001b[43m(\u001b[49m\u001b[43mInteger\u001b[49m\u001b[43m(\u001b[49m\u001b[38;5;241;43m2\u001b[39;49m\u001b[43m)\u001b[49m\u001b[43m)\u001b[49m\u001b[38;5;241;43m*\u001b[39;49m\u001b[38;5;241;43m*\u001b[39;49m\u001b[38;5;241;43m-\u001b[39;49m\u001b[43mInteger\u001b[49m\u001b[43m(\u001b[49m\u001b[38;5;241;43m1\u001b[39;49m\u001b[43m)\u001b[49m\n",
      "File \u001b[0;32m/private/var/tmp/sage-10.3-current/local/var/lib/sage/venv-python3.11.1/lib/python3.11/site-packages/sage/rings/finite_rings/integer_mod.pyx:2820\u001b[0m, in \u001b[0;36msage.rings.finite_rings.integer_mod.IntegerMod_int.__pow__ (build/cythonized/sage/rings/finite_rings/integer_mod.c:40878)\u001b[0;34m()\u001b[0m\n\u001b[1;32m   2818\u001b[0m res = mod_pow_int(self.ivalue, long_exp, self._modulus.int32)\n\u001b[1;32m   2819\u001b[0m if invert:\n\u001b[0;32m-> 2820\u001b[0m     return ~self._new_c(res)\n\u001b[1;32m   2821\u001b[0m else:\n\u001b[1;32m   2822\u001b[0m     return self._new_c(res)\n",
      "File \u001b[0;32m/private/var/tmp/sage-10.3-current/local/var/lib/sage/venv-python3.11.1/lib/python3.11/site-packages/sage/rings/finite_rings/integer_mod.pyx:2838\u001b[0m, in \u001b[0;36msage.rings.finite_rings.integer_mod.IntegerMod_int.__invert__ (build/cythonized/sage/rings/finite_rings/integer_mod.c:41055)\u001b[0;34m()\u001b[0m\n\u001b[1;32m   2836\u001b[0m x = self._modulus.inverses[self.ivalue]\n\u001b[1;32m   2837\u001b[0m if x is None:\n\u001b[0;32m-> 2838\u001b[0m     raise ZeroDivisionError(f\"inverse of Mod({self}, {self._modulus.sageInteger}) does not exist\")\n\u001b[1;32m   2839\u001b[0m else:\n\u001b[1;32m   2840\u001b[0m     return x\n",
      "\u001b[0;31mZeroDivisionError\u001b[0m: inverse of Mod(2, 6) does not exist"
     ]
    }
   ],
   "source": [
    "Z6(2)**-1"
   ]
  }
 ],
 "metadata": {
  "kernelspec": {
   "display_name": "SageMath 10.3",
   "language": "sage",
   "name": "sagemath-10.3"
  },
  "language_info": {
   "codemirror_mode": {
    "name": "ipython",
    "version": 3
   },
   "file_extension": ".py",
   "mimetype": "text/x-python",
   "name": "python",
   "nbconvert_exporter": "python",
   "pygments_lexer": "ipython3",
   "version": "3.11.1"
  }
 },
 "nbformat": 4,
 "nbformat_minor": 5
}
