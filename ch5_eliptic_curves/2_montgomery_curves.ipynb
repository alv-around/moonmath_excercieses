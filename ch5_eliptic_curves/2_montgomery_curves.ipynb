{
 "cells": [
  {
   "cell_type": "markdown",
   "id": "20036c2f-facf-463b-a084-2747ad2c5c2d",
   "metadata": {},
   "source": [
    "## Exercise 70. \n",
    "\n",
    "Consider example 82 and compute the set in (5.30) by inserting every pair of field elements (x, y) ∈ F13 × F13 into the defining Montgomery equation.\n"
   ]
  },
  {
   "cell_type": "code",
   "execution_count": 190,
   "id": "08a086c0-b21c-417f-982d-79152fb3a222",
   "metadata": {},
   "outputs": [
    {
     "data": {
      "text/plain": [
       "[(0, 0),\n",
       " (1, 4),\n",
       " (1, 9),\n",
       " (2, 4),\n",
       " (2, 9),\n",
       " (3, 5),\n",
       " (3, 8),\n",
       " (4, 4),\n",
       " (4, 9),\n",
       " (5, 1),\n",
       " (5, 12),\n",
       " (7, 1),\n",
       " (7, 12),\n",
       " (8, 1),\n",
       " (8, 12),\n",
       " (9, 2),\n",
       " (9, 11),\n",
       " (10, 3),\n",
       " (10, 10)]"
      ]
     },
     "execution_count": 190,
     "metadata": {},
     "output_type": "execute_result"
    }
   ],
   "source": [
    "# ----- Ex 70 -----\n",
    "\n",
    "A, B = (6, 7)\n",
    "MTJJ_points = [ (x, y) for x in F_13 for y in F_13 if B * y^2 == x^3 + A * x^2 + x] # without point at infinity\n",
    "assert len(MTJJ_points) == len(TJJ_13.points()) - 1\n",
    "MTJJ_points"
   ]
  },
  {
   "cell_type": "markdown",
   "id": "c2d8a561-dccb-455b-b972-08c0d3b5a050",
   "metadata": {},
   "source": [
    "## Exercise 71. \n",
    "\n",
    "Consider the elliptic curve E1(F) from example 70 and show that E1(F) is not a Montgomery curve.\n",
    "\n",
    "**help material:**\n",
    "\n",
    "For a Short Weierstrass curve to be a Montgomery curve, the following conditions need to hold:\n",
    "Definition 5.2.0.1.\n",
    "- The number of points on E(F) is divisible by 4.\n",
    "- The polynomial z3 +az+b ∈ F[z] has at least one root z0 ∈ F. \n",
    "- $3z^2_0$ + a is a quadratic residue in F∗.\n",
    "\n",
    "**Solution:**\n",
    "\n",
    "$|E_{1,1}(\\mathbb{F}_5)| = 8 \\equiv 0 \\mod 4$\n"
   ]
  },
  {
   "cell_type": "code",
   "execution_count": 191,
   "id": "1fb15082-511c-489e-ab35-e9025ad94d33",
   "metadata": {},
   "outputs": [
    {
     "ename": "AssertionError",
     "evalue": "no roots for z0",
     "output_type": "error",
     "traceback": [
      "\u001b[0;31m---------------------------------------------------------------------------\u001b[0m",
      "\u001b[0;31mAssertionError\u001b[0m                            Traceback (most recent call last)",
      "Cell \u001b[0;32mIn[191], line 4\u001b[0m\n\u001b[1;32m      1\u001b[0m P \u001b[38;5;241m=\u001b[39m PolynomialRing(F_5, names\u001b[38;5;241m=\u001b[39m(\u001b[38;5;124m'\u001b[39m\u001b[38;5;124mz\u001b[39m\u001b[38;5;124m'\u001b[39m,)); (z,) \u001b[38;5;241m=\u001b[39m P\u001b[38;5;241m.\u001b[39m_first_ngens(\u001b[38;5;241m1\u001b[39m)\n\u001b[1;32m      2\u001b[0m T \u001b[38;5;241m=\u001b[39m z\u001b[38;5;241m*\u001b[39m\u001b[38;5;241m*\u001b[39mInteger(\u001b[38;5;241m3\u001b[39m) \u001b[38;5;241m+\u001b[39m z \u001b[38;5;241m+\u001b[39m Integer(\u001b[38;5;241m1\u001b[39m)\n\u001b[0;32m----> 4\u001b[0m \u001b[38;5;28;01massert\u001b[39;00m \u001b[38;5;28mlen\u001b[39m(T\u001b[38;5;241m.\u001b[39mroots()) \u001b[38;5;241m>\u001b[39m Integer(\u001b[38;5;241m0\u001b[39m), \u001b[38;5;124m\"\u001b[39m\u001b[38;5;124mno roots for z0\u001b[39m\u001b[38;5;124m\"\u001b[39m\n",
      "\u001b[0;31mAssertionError\u001b[0m: no roots for z0"
     ]
    }
   ],
   "source": [
    "P.<z> = PolynomialRing(F_5)\n",
    "T = z^3 + z + 1\n",
    "\n",
    "assert len(T.roots()) > 0, \"no roots for z0\""
   ]
  },
  {
   "cell_type": "markdown",
   "id": "07ed7f39-e941-43a0-90a5-037a8d051428",
   "metadata": {},
   "source": [
    "## Exercise 72. \n",
    "\n",
    "Consider the elliptic curve secp256k1 from example 72 and show that secp256k1 is not a Montgomery curve.\n",
    "\n",
    "**Solution:**"
   ]
  },
  {
   "cell_type": "code",
   "execution_count": 192,
   "id": "3f5d88fe-9a8a-429c-8b78-f75b137ad3e9",
   "metadata": {},
   "outputs": [
    {
     "ename": "AssertionError",
     "evalue": "",
     "output_type": "error",
     "traceback": [
      "\u001b[0;31m---------------------------------------------------------------------------\u001b[0m",
      "\u001b[0;31mAssertionError\u001b[0m                            Traceback (most recent call last)",
      "Cell \u001b[0;32mIn[192], line 4\u001b[0m\n\u001b[1;32m      1\u001b[0m secp256k1_p \u001b[38;5;241m=\u001b[39m Integer(\u001b[38;5;241m115792089237316195423570985008687907853269984665640564039457584007908834671663\u001b[39m)\n\u001b[1;32m      2\u001b[0m secp256k1 \u001b[38;5;241m=\u001b[39m EllipticCurve(GF(secp256k1_p), [Integer(\u001b[38;5;241m0\u001b[39m), Integer(\u001b[38;5;241m7\u001b[39m)])\n\u001b[0;32m----> 4\u001b[0m \u001b[38;5;28;01massert\u001b[39;00m secp256k1\u001b[38;5;241m.\u001b[39morder() \u001b[38;5;241m%\u001b[39m Integer(\u001b[38;5;241m4\u001b[39m) \u001b[38;5;241m==\u001b[39m Integer(\u001b[38;5;241m0\u001b[39m)\n",
      "\u001b[0;31mAssertionError\u001b[0m: "
     ]
    }
   ],
   "source": [
    "secp256k1_p = 115792089237316195423570985008687907853269984665640564039457584007908834671663\n",
    "secp256k1 = EllipticCurve(GF(secp256k1_p), [0, 7])\n",
    "\n",
    "assert secp256k1.order() % 4 == 0"
   ]
  },
  {
   "cell_type": "markdown",
   "id": "a37a35ea-39b4-44ff-a0f9-2aad4047e851",
   "metadata": {},
   "source": [
    "## Exercise 73. \n",
    "\n",
    "Consider the commutative group (M_TJJ_13,⊕) of the Tiny-jubjub curve in its\n",
    "Montgomery form from example (5.30).\n",
    "1. Compute the inverse of (1,9), O, (7,12) and (4,9).\n",
    "2. Solve the equation x ⊕ (3,8) = (10,3) for some x ∈ M_TJJ_13.\n",
    "Choose some element x ∈ M_TJJ_13 and test if x is a generator of M_TJJ_13. If x is not a generator, repeat until you find some generator x. Write M_TJJ_13 in logarithmic order with respect to x.\n",
    "\n",
    "**Solution:**\n",
    "\n",
    "1.\n",
    "    - $MTJJ(1, 9)^{-1} =  (1, -9) = (1, 4)$\n",
    "    - $MTJJ(\\mathcal{O})^{-1} = MTJJ(\\mathcal{O}) = (11, 7)$\n",
    "    - $MTJJ(7, 12)^{-1} = (7, -12) = (7, 1)$\n",
    "    - $MTJJ(4, 9)^{-1} = (4, -9) = (4, 4)$\n",
    "  \n",
    "2. $ x \\oplus (3,8)=(10,3) \\rightarrow x =(10,3) \\oplus  (3,8)^{-1} \\rightarrow x =(10,3) \\oplus (3,5)$\n"
   ]
  },
  {
   "cell_type": "code",
   "execution_count": 229,
   "id": "2fc9e6e6-4e34-4c87-b280-4627e965dedd",
   "metadata": {},
   "outputs": [
    {
     "name": "stdout",
     "output_type": "stream",
     "text": [
      "generator found: (3, 5)\n",
      "generator found: (3, 8)\n",
      "generator found: (4, 4)\n",
      "generator found: (4, 9)\n",
      "generator found: (9, 2)\n",
      "generator found: (9, 11)\n",
      "generator found: (10, 3)\n",
      "generator found: (10, 10)\n"
     ]
    }
   ],
   "source": [
    "# answer taken form https://github.com/erhant/moonmath/blob/master/elliptic-curves/montgomery.sage\n",
    "\n",
    "def in_mt_curve(x, y):\n",
    "    return B * y^2 == x^3 + A * x^2 + x\n",
    "\n",
    "def add(P, Q):\n",
    "        \"\"\"\n",
    "        Add points P and Q in the Montgomery curve.\n",
    "\n",
    "        If P == Q, tangent law is used.\n",
    "        If P != Q, chord law is used.\n",
    "        If P == -Q, method fails.\n",
    "        \"\"\"\n",
    "        assert P in MTJJ_points\n",
    "        assert Q in MTJJ_points\n",
    "\n",
    "        x1, x2, y1, y2 = P[0], Q[0], P[1], Q[1]\n",
    "        if x1 != x2:\n",
    "            # chord\n",
    "            common = (y2 - y1) / (x2 - x1)\n",
    "        else:\n",
    "            # tangent\n",
    "            common = (3 * x1 * x1 + 2 * A * x1 + 1) / (2 * B * y1)\n",
    "\n",
    "        x3 = common * common * B - (x1 + x2) - A\n",
    "        y3 = common * (x1 - x3) - y1\n",
    "        assert in_mt_curve(x3, y3)\n",
    "        return (x3, y3)\n",
    "\n",
    "\n",
    "for point in MTJJ_points:\n",
    "    x, y = point\n",
    "    if y == 0: continue\n",
    "    else:\n",
    "\n",
    "        result = [point]\n",
    "        for i in range(TJJ_13.order()-1):\n",
    "            runner = result[-1]\n",
    "            result.append(add(point, runner))\n",
    "\n",
    "        result_set = Set(result)\n",
    "        if len(result_set) == len(MTJJ_points):\n",
    "            print(f\"generator found: {point}\")"
   ]
  },
  {
   "cell_type": "markdown",
   "id": "79dc0024-c11c-4025-b069-be9b835ece7a",
   "metadata": {},
   "source": [
    "## Exercise 74. \n",
    "\n",
    "Consider the curve alt_bn128 from example 73. Show that this curve is not a Montgomery curve."
   ]
  },
  {
   "cell_type": "code",
   "execution_count": 230,
   "id": "d5bb951a-dfa9-488d-a88b-6cc73447e729",
   "metadata": {},
   "outputs": [
    {
     "ename": "AssertionError",
     "evalue": "",
     "output_type": "error",
     "traceback": [
      "\u001b[0;31m---------------------------------------------------------------------------\u001b[0m",
      "\u001b[0;31mAssertionError\u001b[0m                            Traceback (most recent call last)",
      "Cell \u001b[0;32mIn[230], line 11\u001b[0m\n\u001b[1;32m      9\u001b[0m \u001b[38;5;66;03m# Define the alt_bn128 curve over GF(p)\u001b[39;00m\n\u001b[1;32m     10\u001b[0m ALT_BN128 \u001b[38;5;241m=\u001b[39m EllipticCurve(ALT_BN128_F, [a, b])\n\u001b[0;32m---> 11\u001b[0m \u001b[38;5;28;01massert\u001b[39;00m ALT_BN128\u001b[38;5;241m.\u001b[39morder() \u001b[38;5;241m%\u001b[39m Integer(\u001b[38;5;241m4\u001b[39m) \u001b[38;5;241m==\u001b[39m Integer(\u001b[38;5;241m0\u001b[39m)\n",
      "\u001b[0;31mAssertionError\u001b[0m: "
     ]
    }
   ],
   "source": [
    "# taken from https://eips.ethereum.org/EIPS/eip-196\n",
    "p = 21888242871839275222246405745257275088696311157297823662689037894645226208583\n",
    "ALT_BN128_F = GF(p)\n",
    "\n",
    "# Define the coefficients for the alt_bn128 curve\n",
    "a = 0\n",
    "b = 3\n",
    "\n",
    "# Define the alt_bn128 curve over GF(p)\n",
    "ALT_BN128 = EllipticCurve(ALT_BN128_F, [a, b])\n",
    "assert ALT_BN128.order() % 4 == 0"
   ]
  },
  {
   "cell_type": "code",
   "execution_count": null,
   "id": "5587cb0b-ad2e-4c55-8b93-a5e5e65dd73d",
   "metadata": {},
   "outputs": [],
   "source": []
  }
 ],
 "metadata": {
  "kernelspec": {
   "display_name": "SageMath 10.3",
   "language": "sage",
   "name": "sagemath-10.3"
  },
  "language_info": {
   "codemirror_mode": {
    "name": "ipython",
    "version": 3
   },
   "file_extension": ".py",
   "mimetype": "text/x-python",
   "name": "python",
   "nbconvert_exporter": "python",
   "pygments_lexer": "ipython3",
   "version": "3.11.1"
  }
 },
 "nbformat": 4,
 "nbformat_minor": 5
}
