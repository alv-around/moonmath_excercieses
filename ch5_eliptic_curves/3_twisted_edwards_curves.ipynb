{
 "cells": [
  {
   "cell_type": "markdown",
   "id": "4ef0b5f9-dc0b-4455-abec-428b9e13b1d6",
   "metadata": {},
   "source": [
    "## Exercise 75. \n",
    "\n",
    "Consider the commutative group (TE_TJJ_13,⊕) from example 85. \n",
    "\n",
    "1. Compute the inverse of (1,11), (0,1), (3,0) and (5,8).\n",
    "2. Solvetheequationx⊕(5,8)=(1,11)forsomex∈TE_TJJ_13."
   ]
  },
  {
   "cell_type": "code",
   "execution_count": 19,
   "id": "7d00b5d5-67e5-4390-bf71-df6fb51b36ab",
   "metadata": {},
   "outputs": [
    {
     "name": "stdout",
     "output_type": "stream",
     "text": [
      "Points in TE_TJJ_13: [(0, 1), (0, 12), (1, 2), (1, 11), (2, 6), (2, 7), (3, 0), (5, 5), (5, 8), (6, 4), (6, 9), (7, 4), (7, 9), (8, 5), (8, 8), (10, 0), (11, 6), (11, 7), (12, 2), (12, 11)]\n",
      "Inverse of Point (1, 11): (12, 11)\n",
      "Inverse of Point (0, 1): (0, 1)\n",
      "Inverse of Point (5, 8): (8, 8)\n"
     ]
    }
   ],
   "source": [
    "F13 = GF(13)\n",
    "a, d = (3, 8)\n",
    "\n",
    "\n",
    "TE_TJJ_13 = [(x, y) for x in F13 for y in F13 if a * x^2 + y^2 == 1+ d * x^2 * y^2]\n",
    "print(f\"Points in TE_TJJ_13: {TE_TJJ_13}\")\n",
    "\n",
    "# ------ 1 -------\n",
    "def inv(x: GF, y: GF) -> (GF, GF):\n",
    "    return (-x, y)\n",
    "\n",
    "points = [(F13(x), F13(y)) for x, y in [(1, 11), (0, 1), (5, 8)]]\n",
    "for point in points:\n",
    "    print(f\"Inverse of Point {point}: {inv(*point)}\")"
   ]
  },
  {
   "cell_type": "markdown",
   "id": "8fc2e6dc-ecde-41c3-8aa3-baefde64592e",
   "metadata": {},
   "source": [
    "2. $ x \\oplus (5,8) = (1,11) \\rightarrow x = (1, 11) \\oplus (5,8)^-1$"
   ]
  },
  {
   "cell_type": "code",
   "execution_count": 22,
   "id": "c8c9ce9e-1fe2-4f44-aa2d-a93125ea46e5",
   "metadata": {},
   "outputs": [
    {
     "data": {
      "text/plain": [
       "(11, 7)"
      ]
     },
     "execution_count": 22,
     "metadata": {},
     "output_type": "execute_result"
    }
   ],
   "source": [
    "def addition(P, Q) -> (GF, GF):\n",
    "    x1, y1 = P\n",
    "    x2, y2 = Q\n",
    "    x3 =  (x1 * y2 + y1 * x2) / (1 + d * x1 * x2 * y1 * y2) \n",
    "    y3 =  (y1 * y2 - a * x1 * x2) / (1 - d * x1 * x2 * y1 * y2)\n",
    "    return (x3, y3)\n",
    "\n",
    "x = addition(points[0], inv(*points[2]))\n",
    "x"
   ]
  },
  {
   "cell_type": "markdown",
   "id": "07377af3-84e3-4b36-85fc-5666ba7a62f7",
   "metadata": {},
   "source": [
    "Choose some element x ∈ TE_TJJ_13, and test if x is a generator of TE_TJJ_13. If x is not a generator, repeat until you find some generator x. Write TE_TJJ_13 in logarithmic order with respect to x."
   ]
  },
  {
   "cell_type": "code",
   "execution_count": 24,
   "id": "d59bf5fd-c18d-4f61-acc9-2d1a13b90a7e",
   "metadata": {},
   "outputs": [
    {
     "name": "stdout",
     "output_type": "stream",
     "text": [
      "generator found: (1, 2)\n",
      "generator found: (1, 11)\n",
      "generator found: (2, 6)\n",
      "generator found: (2, 7)\n",
      "generator found: (11, 6)\n",
      "generator found: (11, 7)\n",
      "generator found: (12, 2)\n",
      "generator found: (12, 11)\n"
     ]
    }
   ],
   "source": [
    "order = len(TE_TJJ_13)\n",
    "for point in TE_TJJ_13:\n",
    "    x, y = point\n",
    "    result = [point]\n",
    "    \n",
    "    for i in range(order - 1):\n",
    "        runner = result[-1]\n",
    "        result.append(addition(point, runner))\n",
    "\n",
    "    result_set = Set(result)\n",
    "    if len(result_set) == len(TE_TJJ_13):\n",
    "        print(f\"generator found: {point}\")"
   ]
  },
  {
   "cell_type": "code",
   "execution_count": null,
   "id": "c4779582-b622-4c84-838a-84d7568663d1",
   "metadata": {},
   "outputs": [],
   "source": []
  }
 ],
 "metadata": {
  "kernelspec": {
   "display_name": "SageMath 10.3",
   "language": "sage",
   "name": "sagemath-10.3"
  },
  "language_info": {
   "codemirror_mode": {
    "name": "ipython",
    "version": 3
   },
   "file_extension": ".py",
   "mimetype": "text/x-python",
   "name": "python",
   "nbconvert_exporter": "python",
   "pygments_lexer": "ipython3",
   "version": "3.11.1"
  }
 },
 "nbformat": 4,
 "nbformat_minor": 5
}
