{
 "cells": [
  {
   "cell_type": "markdown",
   "id": "b89bcde9-d9f0-4d3d-af2d-721e4f93dfc2",
   "metadata": {},
   "source": [
    "# Chapter 5 - Eliptic Curve\n",
    "\n",
    "## Exercise 58. \n",
    "Consider the curve E1(F) from example 70 and compute the set of all curve points (x,y) ∈ E1(F).\n"
   ]
  },
  {
   "cell_type": "code",
   "execution_count": 49,
   "id": "97dc7c97-7503-4892-8ae0-15633f8d2776",
   "metadata": {},
   "outputs": [
    {
     "data": {
      "text/plain": [
       "[(0 : 1 : 0), (0 : 1 : 1), (0 : 4 : 1), (2 : 1 : 1), (2 : 4 : 1), (3 : 1 : 1), (3 : 4 : 1), (4 : 2 : 1), (4 : 3 : 1)]"
      ]
     },
     "execution_count": 49,
     "metadata": {},
     "output_type": "execute_result"
    }
   ],
   "source": [
    "F_5 = GF(5)\n",
    "a, b = (F_5(1), F_5(1))\n",
    "E11_F5 = EllipticCurve(F_5,[a,b])\n",
    "points = E11_F5.points()\n",
    "assert len(points) == 9\n",
    "points"
   ]
  },
  {
   "cell_type": "markdown",
   "id": "af97e8e4-2017-493d-bf07-679711783ffb",
   "metadata": {},
   "source": [
    "## Exercise 59. \n",
    "Consider the curve TJJ_13 from example 71 and compute the set of all curve points (x, y) ∈ T JJ_13."
   ]
  },
  {
   "cell_type": "code",
   "execution_count": 50,
   "id": "35bd5bcd-b41f-4323-bbd5-a95431fa2e95",
   "metadata": {},
   "outputs": [
    {
     "data": {
      "text/plain": [
       "[(0 : 1 : 0), (1 : 2 : 1), (1 : 11 : 1), (4 : 0 : 1), (5 : 2 : 1), (5 : 11 : 1), (6 : 5 : 1), (6 : 8 : 1), (7 : 2 : 1), (7 : 11 : 1), (8 : 5 : 1), (8 : 8 : 1), (9 : 4 : 1), (9 : 9 : 1), (10 : 3 : 1), (10 : 10 : 1), (11 : 6 : 1), (11 : 7 : 1), (12 : 5 : 1), (12 : 8 : 1)]"
      ]
     },
     "execution_count": 50,
     "metadata": {},
     "output_type": "execute_result"
    }
   ],
   "source": [
    "F_13 = GF(13)\n",
    "a, b = (F_13(8), F_13(8))\n",
    "TJJ_13 = EllipticCurve(F_13,[a,b])\n",
    "TJJ_points = TJJ_13.points()\n",
    "assert len(TJJ_points) == 20\n",
    "TJJ_points"
   ]
  },
  {
   "cell_type": "markdown",
   "id": "178a93d7-7459-4cad-97cd-7184a4ab3f80",
   "metadata": {},
   "source": [
    "## Exercise 60. \n",
    "Look up the definition of curve BLS12-381, implement it in Sage, and compute the number of all curve points."
   ]
  },
  {
   "cell_type": "code",
   "execution_count": 51,
   "id": "2e53593e-05b1-42f7-a88c-93a60e5a33cc",
   "metadata": {},
   "outputs": [
    {
     "name": "stdout",
     "output_type": "stream",
     "text": [
      "BLS12_381 has to many points to display (~2^380.)\n"
     ]
    }
   ],
   "source": [
    "# parameters taken from https://hackmd.io/@benjaminion/bls12-381#Curve-equation-and-parameters\n",
    "p_hex = \"0x1a0111ea397fe69a4b1ba7b6434bacd764774b84f38512bf6730d2a0f6b0f6241eabfffeb153ffffb9feffffffffaaab\"\n",
    "Fp = GF(int(p_hex, 16))\n",
    "# y^2 = x^3 + 4 (y^2 = x^3 + a x + b)\n",
    "a, b = (Fp(0), Fp(4))\n",
    "E = EllipticCurve(Fp,[a,b])\n",
    "point_number = E.order()\n",
    "print(f\"BLS12_381 has to many points to display (~2^{log(point_number, 2).n(digits=1)})\")"
   ]
  },
  {
   "cell_type": "markdown",
   "id": "0b27fccb-6128-433d-ae42-c5f09a03f4eb",
   "metadata": {},
   "source": [
    "## Exercise 61. \n",
    "Let F be a finite field, let (a,b) and (a',b') be two pairs of parameters, and let $c \\in F^∗$ be an invertible field element such that $a' = a \\cdot c^4$ and $b' = b \\cdot c^6$ hold. Show that the function I from (5.3) maps curve points onto curve points.\n",
    "\n",
    "**help material:**\n",
    "\n",
    "$E_{a,b}(F) = \\{(x, y) \\in F x F \\ | \\ y^2 = x^3 + a \\cdot x + b \\} $\n",
    "\n",
    "discriminant $E_{a,b}(F): 4a^3 + 27b^2 \\not\\equiv 0 ( \\mod p )$\n",
    "\n",
    "$E_{a',b'}(F) = \\{(x, y) \\in F x F \\ | \\ y^2 = x^3 + (a \\cdot c^4) \\cdot x + b \\cdot c^6 \\} $\n",
    "\n",
    "discriminant $E_{a',b'}(F): 4 (a \\cdot c^4)^3 + 27(b \\cdot c^6)^2 \\not\\equiv 0 ( \\mod p ) \\rightarrow c^{12} \\cdot (4 xa^3 + 27 b^2) \\not\\equiv 0 ( \\mod p )$\n",
    "\n",
    "**solution:**\n",
    "\n",
    "applying the map $\\textit{I}$ to all pair (x, y) $\\in E_{a,b}(F)$ you get points (x', y') $\\in E_{a',b'}(F)$ as:\n",
    "\n",
    "$ E_{'a,'b}(\\textit{I}(x, y)) = \\{(x, y) \\in F x F \\ | \\ c^3 \\cdot y)^2 = (c^2 \\cdot x)^3 + (a \\cdot c^4) \\cdot (c^2 \\cdot x) + b \\cdot c^6 \\}  \\rightarrow \\{(x, y) \\in F x F \\ | \\ c^6 \\cdot y^2 = c^6 \\cdot (x^3 + (a \\cdot x) + b) \\} \\rightarrow \\{(x, y) \\in F x F \\ | \\ y^2 = x^3 + a \\cdot x + b \\} \\rightarrow E_{a,b}(F)$\n",
    "\n",
    "## Exercise 62.\n",
    "Consider the Tiny-jubjub curve from example 71 and the elliptic curve E7,5(F13).\n",
    "\n",
    "Show that TJJ_13 and E7,5(F13) are isomorphic. Then compute the set of all points from\n",
    "E7,5(F13), construct I and map all points of TJJ_13 onto E7,5(F13)."
   ]
  },
  {
   "cell_type": "code",
   "execution_count": 52,
   "id": "48f6722a-b583-4e80-bba8-ce4b77ba6f35",
   "metadata": {},
   "outputs": [
    {
     "name": "stdout",
     "output_type": "stream",
     "text": [
      "value of c for the map I: 6\n",
      "Points on E7,5(F13):\n",
      "we have proved isomorphism as I maps to each and everysingle element of E75 once and the opposite can be done as well\n"
     ]
    }
   ],
   "source": [
    "# Define the elliptic curves E8,8 and E7,5 over GF(13)\n",
    "E75 = EllipticCurve(F_13, [7, 5])\n",
    "\n",
    "# Check for isomorphism\n",
    "# We need to find a non-zero u such that a2 = u^4 * a1 and b2 = u^6 * b1\n",
    "def isomorphic_curves(E1, E2):\n",
    "    isomorphic, u_value = (False,None)\n",
    "    F = E1.base_field()\n",
    "    assert E1.base_field() == E2.base_field()\n",
    "\n",
    "    a1, b1 = E1.a4(), E1.a6()\n",
    "    a2, b2 = E2.a4(), E2.a6()\n",
    "    for u in F:\n",
    "        if u != 0 and a2 == u^4 * a1 and b2 == u^6 * b1:\n",
    "            return (True, u)\n",
    "    return (isomorphic, u_value)\n",
    "\n",
    "def map_point(E1, E2, P, u):\n",
    "    if P == E1(0):\n",
    "        return E2(0)  # Map the point at infinity to itself\n",
    "    x, y = P.xy()\n",
    "    x_new = u^2 * x \n",
    "    y_new = u^3 * y\n",
    "    return E2(x_new, y_new)\n",
    "\n",
    "isomorphic, c = isomorphic_curves(TJJ_13, E75)\n",
    "assert isomorphic, \"The curves are not isomorphic.\"\n",
    "print(f\"value of c for the map I: {c}\")\n",
    "\n",
    "# Compute all points on E7,5(F13)\n",
    "# Construct the isomorphism and map points from E8,8(F13) to E7,5(F13)\n",
    "points_E75 = E75.points()\n",
    "assert len(TJJ_points) == len(points_E75)\n",
    "print(\"Points on E7,5(F13):\")\n",
    "\n",
    "difference = points_E75\n",
    "for p in TJJ_points:\n",
    "    mapped_point = map_point(TJJ_13, E75, p, c)\n",
    "    difference = [point for point in difference if point != mapped_point]\n",
    "\n",
    "assert len(difference) == 0\n",
    "print(\"we have proved isomorphism as I maps to each and everysingle element of E75 once and the opposite can be done as well\")"
   ]
  },
  {
   "cell_type": "markdown",
   "id": "96352090-5170-42d7-ae4c-a8912d3a3c95",
   "metadata": {},
   "source": [
    "## Exercise 63. \n",
    "\n",
    "Consider the commutative group (TJJ_13, $\\oplus$) of the Tiny-jubjub curve from example 71.\n",
    "1. Compute the inverse of (10,10), $\\mathcal{O}$, (4,0) and (1,2).\n",
    "2. Solve the equation $x \\oplus (9,4)=(5,2)$ for some $x \\in TJJ_13$.\n"
   ]
  },
  {
   "cell_type": "code",
   "execution_count": 53,
   "id": "b6979200-0aeb-4e25-91d6-eae62e4c4902",
   "metadata": {},
   "outputs": [
    {
     "name": "stdout",
     "output_type": "stream",
     "text": [
      "value: (10 : 10 : 1) inv: (10 : 3 : 1)\n",
      "value: (4 : 0 : 1) inv: (4 : 0 : 1)\n",
      "value: (1 : 2 : 1) inv: (1 : 11 : 1)\n",
      "value: (0 : 1 : 0) inv: (0 : 1 : 0)\n"
     ]
    }
   ],
   "source": [
    "# ---- 1 ------\n",
    "def inverse(P):\n",
    "    if TJJ_13(0) == P:\n",
    "        return P\n",
    "    else:\n",
    "        x, y = P.xy()\n",
    "        return TJJ_13(x, -y)\n",
    "\n",
    "for p in [TJJ_13(*p) for p in [(10, 10), (4, 0), (1, 2)]] + [TJJ_13(0)]:\n",
    "    p_inv = inverse(p) \n",
    "    print(f\"value: {p} inv: {p_inv}\")\n",
    "\n",
    "# ---- 2 ------\n",
    "def chord_rule(P, Q):\n",
    "    x1, y1 = P.xy()\n",
    "    x2, y2 = Q.xy()\n",
    "\n",
    "    x3 = ((y2 - y1) / (x2 - x1))^2 - x1 - x2\n",
    "    y3 = ((y2 - y1) / (x2 - x1)) * (x1 -x3) - y1\n",
    "    return TJJ_13(x3, y3)\n",
    "\n",
    "P, Q = TJJ_13(9,4), TJJ_13(5, 2)\n",
    "\n",
    "P_inv = inverse(P)\n",
    "sol = chord_rule(Q, P_inv)\n",
    "assert chord_rule(sol, P) == Q"
   ]
  },
  {
   "cell_type": "markdown",
   "id": "9e44d5d7-572d-41ef-931d-7f4a16ffce1c",
   "metadata": {},
   "source": [
    "## Exercise64. \n",
    "\n",
    "Consider example 79 and compute the set $\\{[1](0,1),[2](0,1),...,[8](0,1,[9](0,1)\\}$ using the tangent rule only."
   ]
  },
  {
   "cell_type": "code",
   "execution_count": 54,
   "id": "562fc860-a179-425b-bfe4-86e42a85c510",
   "metadata": {},
   "outputs": [
    {
     "data": {
      "text/plain": [
       "[(0 : 1 : 1),\n",
       " (4 : 2 : 1),\n",
       " (2 : 1 : 1),\n",
       " (3 : 4 : 1),\n",
       " (3 : 1 : 1),\n",
       " (2 : 4 : 1),\n",
       " (4 : 3 : 1),\n",
       " (0 : 4 : 1),\n",
       " (0 : 1 : 0)]"
      ]
     },
     "execution_count": 54,
     "metadata": {},
     "output_type": "execute_result"
    }
   ],
   "source": [
    "G = E11_F5(0,1)\n",
    "\n",
    "E11_F5_points = [ x * G for x in range(1, E11_F5.order() + 1)]\n",
    "E11_F5_points"
   ]
  },
  {
   "cell_type": "markdown",
   "id": "0f2a59dc-997d-4136-8f96-413fe18a7b0c",
   "metadata": {},
   "source": [
    "## Exercise 65. \n",
    "\n",
    "Consider example 80 and compute the scalar multiplications [10](5, 11) as well as [10](9, 4) and [4](9, 4) with pen and paper using the algorithm from exercise 38."
   ]
  },
  {
   "cell_type": "code",
   "execution_count": 55,
   "id": "7e384f1f-22db-4703-90bf-921ced6dc383",
   "metadata": {},
   "outputs": [
    {
     "data": {
      "text/plain": [
       "((0 : 1 : 0), (4 : 0 : 1), (7 : 11 : 1))"
      ]
     },
     "execution_count": 55,
     "metadata": {},
     "output_type": "execute_result"
    }
   ],
   "source": [
    "TJJ_13(5, 11) * 10, TJJ_13(9, 4) * 10, TJJ_13(9, 4) * 4"
   ]
  },
  {
   "cell_type": "markdown",
   "id": "4e28ea8a-ce97-4844-9c7c-787e5bb42d5b",
   "metadata": {},
   "source": [
    "## Exercise 66. \n",
    "\n",
    "Consider example 81 and compute the set (5.23) by inserting all points from the projective plane F5P2 into the defining projective Short Weierstrass equation.\n"
   ]
  },
  {
   "cell_type": "code",
   "execution_count": 56,
   "id": "b390d993-a0f2-416d-8bcc-488b3cd8208c",
   "metadata": {},
   "outputs": [
    {
     "data": {
      "text/plain": [
       "[(0, 1, 1),\n",
       " (0, 4, 1),\n",
       " (2, 1, 1),\n",
       " (2, 4, 1),\n",
       " (3, 1, 1),\n",
       " (3, 4, 1),\n",
       " (4, 2, 1),\n",
       " (4, 3, 1),\n",
       " (0, 1, 0)]"
      ]
     },
     "execution_count": 56,
     "metadata": {},
     "output_type": "execute_result"
    }
   ],
   "source": [
    "P = ProjectiveSpace(F_5, 2)\n",
    "\n",
    "a = E11_F5.a4()\n",
    "b = E11_F5.a6()\n",
    "\n",
    "E11_F5_curve_points = [(x, y, z) for (x, y, z) in P.rational_points() if  y^2 * z == x^3 + a * x * z^2 + b * z^3]\n",
    "len(E11_F5_points) == len(E11_F5.points())\n",
    "E11_F5_curve_points"
   ]
  },
  {
   "cell_type": "markdown",
   "id": "22d995ca-0c4b-4079-9b44-2988d6a5c059",
   "metadata": {},
   "source": [
    "## Exercise 67. \n",
    "\n",
    "Compute the projective representation of the Tiny-jubjub curve (example 71) and the logarithmic order of its large prime-order subgroup with respect to the generator [7 : 11 : 1] in projective coordinates.\n"
   ]
  },
  {
   "cell_type": "code",
   "execution_count": 57,
   "id": "5c8266b1-23fc-4bbe-9ed9-96f151d1ae51",
   "metadata": {},
   "outputs": [
    {
     "data": {
      "text/plain": [
       "[[1, (7 : 11 : 1)],\n",
       " [2, (8 : 5 : 1)],\n",
       " [3, (8 : 8 : 1)],\n",
       " [4, (7 : 2 : 1)],\n",
       " [5, (0 : 1 : 0)]]"
      ]
     },
     "execution_count": 57,
     "metadata": {},
     "output_type": "execute_result"
    }
   ],
   "source": [
    "TJJ_13_G = TJJ_13(7, 11)\n",
    "TJJ_order = TJJ_13.order()\n",
    "largest_prime = factor(TJJ_order)[-1][0]\n",
    "\n",
    "result = []\n",
    "last = TJJ_13_G\n",
    "for x in range(largest_prime):\n",
    "    result.append([x + 1, last])\n",
    "    last += TJJ_13_G\n",
    "\n",
    "assert len(result) == largest_prime\n",
    "assert result[-1][1] == TJJ_13(0)\n",
    "result"
   ]
  },
  {
   "cell_type": "markdown",
   "id": "af23342f-768c-4c5a-a7ce-1b052d27f00e",
   "metadata": {},
   "source": [
    "## Exercise 68. \n",
    "\n",
    "Consider example 81 again. Compute the following expression for projective points on E1(F5P2) using algorithm 7:\n",
    "\n",
    "- [0:1:0]⊕[4:3:1]\n",
    "- [0:3:0]⊕[3:1:2]\n",
    "- [0:4:1]⊕[3:4:1]\n",
    "- [4:3:1]⊕[4:2:1]\n",
    "  \n",
    "and then solve the equation [X :Y :Z]⊕[0:1:1]=[2:4:1] for some point [X :Y :Z] from the projective Short Weierstrass curve $E_1(F_5P^2)$.\n"
   ]
  },
  {
   "cell_type": "code",
   "execution_count": 70,
   "id": "e9c3d97d-d49f-4a35-b24b-07811c8f25b3",
   "metadata": {},
   "outputs": [
    {
     "name": "stdout",
     "output_type": "stream",
     "text": [
      "(0 : 1 : 0) + (4 : 3 : 1) = (9 + 7) * G\n",
      "(0 : 1 : 0) + (4 : 3 : 1) = (9 + 7) * G\n",
      "(0 : 4 : 1) + (3 : 4 : 1) = (8 + 4) * G\n",
      "(4 : 3 : 1) + (4 : 2 : 1) = (7 + 2) * G\n",
      "[X :Y :Z] = (3 : 1 : 1)\n",
      "[5]G + [1]G = [6]G\n"
     ]
    }
   ],
   "source": [
    "coordinates = [[0, 1, 0], [4, 3], [0,3, 0], [3, 1, 2], [0, 4, 1], [3, 4, 1], [4, 2, 1]]\n",
    "points = [E11_F5(*point) for point in coordinates]\n",
    "\n",
    "def get_log_index(p):\n",
    "    return E11_F5_points.index(p) + 1\n",
    "\n",
    "def log_sum(p1, p2):\n",
    "    l, m = get_log_index(p1), get_log_index(p2)\n",
    "    result = (l + m) * G\n",
    "    assert result == p1 + p2\n",
    "    print(f\"{p1} + {p2} = ({l} + {m}) * G\")\n",
    "    return result\n",
    "\n",
    "log_sum(points[0], points[1])\n",
    "log_sum(points[2], points[3])\n",
    "log_sum(points[4], points[5])\n",
    "log_sum(points[1], points[6])\n",
    "\n",
    "# --- [X :Y :Z]⊕[0:1:1]=[2:4:1] ---\n",
    "\n",
    "p2 = E11_F5(0, 1)\n",
    "p2_ind = get_log_index(p2)\n",
    "p3 = E11_F5(2, 4)\n",
    "p3_ind = get_log_index(p3)\n",
    "x = (p3_ind - p2_ind) * G\n",
    "x_ind = get_log_index(x)\n",
    "assert x + p2 == p3\n",
    "print(f\"[X :Y :Z] = {x}\")\n",
    "print(f\"[{x_ind}]G + [{p2_ind}]G = [{p3_ind}]G\")\n"
   ]
  },
  {
   "cell_type": "markdown",
   "id": "057c5da9-b0be-498c-8d68-846e833fb8c1",
   "metadata": {},
   "source": [
    "## Exercise 69. \n",
    "\n",
    "Compare the affine addition law for Short Weierstrass curves with the projective addition rule. Which branch in the projective rule corresponds to which case in the affine law?\n"
   ]
  },
  {
   "cell_type": "code",
   "execution_count": null,
   "id": "38eb82c6-4f23-432d-a5ec-ec8520143f75",
   "metadata": {},
   "outputs": [],
   "source": []
  }
 ],
 "metadata": {
  "kernelspec": {
   "display_name": "SageMath 10.3",
   "language": "sage",
   "name": "sagemath-10.3"
  },
  "language_info": {
   "codemirror_mode": {
    "name": "ipython",
    "version": 3
   },
   "file_extension": ".py",
   "mimetype": "text/x-python",
   "name": "python",
   "nbconvert_exporter": "python",
   "pygments_lexer": "ipython3",
   "version": "3.11.1"
  }
 },
 "nbformat": 4,
 "nbformat_minor": 5
}
